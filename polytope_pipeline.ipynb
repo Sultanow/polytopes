{
  "nbformat": 4,
  "nbformat_minor": 0,
  "metadata": {
    "colab": {
      "provenance": [],
      "include_colab_link": true
    },
    "kernelspec": {
      "name": "python3",
      "display_name": "Python 3"
    },
    "language_info": {
      "name": "python"
    }
  },
  "cells": [
    {
      "cell_type": "markdown",
      "metadata": {
        "id": "view-in-github",
        "colab_type": "text"
      },
      "source": [
        "<a href=\"https://colab.research.google.com/github/Sultanow/polytopes/blob/main/polytope_pipeline.ipynb\" target=\"_parent\"><img src=\"https://colab.research.google.com/assets/colab-badge.svg\" alt=\"Open In Colab\"/></a>"
      ]
    },
    {
      "cell_type": "markdown",
      "source": [
        "Check whether polytopes are reflexive"
      ],
      "metadata": {
        "id": "IlOLAoGW2C6l"
      }
    },
    {
      "cell_type": "code",
      "source": [
        "#!sudo apt update && sudo apt full-upgrade\n",
        "#!sudo do-release-upgrade\n",
        "#!sudo apt install python3-pip\n",
        "\n",
        "!apt install libppl-dev\n",
        "!apt install libmpfr-dev\n",
        "!apt install libmpc-dev\n",
        "!apt install libflint-dev\n",
        "!apt install palp"
      ],
      "metadata": {
        "colab": {
          "base_uri": "https://localhost:8080/"
        },
        "id": "tchVs5lr95Pt",
        "outputId": "b693b972-501c-4652-814f-65863c118a88"
      },
      "execution_count": null,
      "outputs": [
        {
          "output_type": "stream",
          "name": "stdout",
          "text": [
            "Reading package lists... Done\n",
            "Building dependency tree... Done\n",
            "Reading state information... Done\n",
            "The following additional packages will be installed:\n",
            "  libgmp-dev libgmpxx4ldbl libppl-c4 libppl14\n",
            "Suggested packages:\n",
            "  gmp-doc libgmp10-doc libmpfr-dev libppl-doc\n",
            "The following NEW packages will be installed:\n",
            "  libgmp-dev libgmpxx4ldbl libppl-c4 libppl-dev libppl14\n",
            "0 upgraded, 5 newly installed, 0 to remove and 45 not upgraded.\n",
            "Need to get 3,874 kB of archives.\n",
            "After this operation, 29.7 MB of additional disk space will be used.\n",
            "Get:1 http://archive.ubuntu.com/ubuntu jammy/main amd64 libgmpxx4ldbl amd64 2:6.2.1+dfsg-3ubuntu1 [9,580 B]\n",
            "Get:2 http://archive.ubuntu.com/ubuntu jammy/main amd64 libgmp-dev amd64 2:6.2.1+dfsg-3ubuntu1 [337 kB]\n",
            "Get:3 http://archive.ubuntu.com/ubuntu jammy/universe amd64 libppl14 amd64 1:1.2-8.1build1 [434 kB]\n",
            "Get:4 http://archive.ubuntu.com/ubuntu jammy/universe amd64 libppl-c4 amd64 1:1.2-8.1build1 [1,084 kB]\n",
            "Get:5 http://archive.ubuntu.com/ubuntu jammy/universe amd64 libppl-dev amd64 1:1.2-8.1build1 [2,009 kB]\n",
            "Fetched 3,874 kB in 1s (6,777 kB/s)\n",
            "Selecting previously unselected package libgmpxx4ldbl:amd64.\n",
            "(Reading database ... 121753 files and directories currently installed.)\n",
            "Preparing to unpack .../libgmpxx4ldbl_2%3a6.2.1+dfsg-3ubuntu1_amd64.deb ...\n",
            "Unpacking libgmpxx4ldbl:amd64 (2:6.2.1+dfsg-3ubuntu1) ...\n",
            "Selecting previously unselected package libgmp-dev:amd64.\n",
            "Preparing to unpack .../libgmp-dev_2%3a6.2.1+dfsg-3ubuntu1_amd64.deb ...\n",
            "Unpacking libgmp-dev:amd64 (2:6.2.1+dfsg-3ubuntu1) ...\n",
            "Selecting previously unselected package libppl14:amd64.\n",
            "Preparing to unpack .../libppl14_1%3a1.2-8.1build1_amd64.deb ...\n",
            "Unpacking libppl14:amd64 (1:1.2-8.1build1) ...\n",
            "Selecting previously unselected package libppl-c4:amd64.\n",
            "Preparing to unpack .../libppl-c4_1%3a1.2-8.1build1_amd64.deb ...\n",
            "Unpacking libppl-c4:amd64 (1:1.2-8.1build1) ...\n",
            "Selecting previously unselected package libppl-dev:amd64.\n",
            "Preparing to unpack .../libppl-dev_1%3a1.2-8.1build1_amd64.deb ...\n",
            "Unpacking libppl-dev:amd64 (1:1.2-8.1build1) ...\n",
            "Setting up libgmpxx4ldbl:amd64 (2:6.2.1+dfsg-3ubuntu1) ...\n",
            "Setting up libppl14:amd64 (1:1.2-8.1build1) ...\n",
            "Setting up libgmp-dev:amd64 (2:6.2.1+dfsg-3ubuntu1) ...\n",
            "Setting up libppl-c4:amd64 (1:1.2-8.1build1) ...\n",
            "Setting up libppl-dev:amd64 (1:1.2-8.1build1) ...\n",
            "Processing triggers for man-db (2.10.2-1) ...\n",
            "Processing triggers for libc-bin (2.35-0ubuntu3.4) ...\n",
            "/sbin/ldconfig.real: /usr/local/lib/libtbbbind.so.3 is not a symbolic link\n",
            "\n",
            "/sbin/ldconfig.real: /usr/local/lib/libtbbmalloc_proxy.so.2 is not a symbolic link\n",
            "\n",
            "/sbin/ldconfig.real: /usr/local/lib/libtbb.so.12 is not a symbolic link\n",
            "\n",
            "/sbin/ldconfig.real: /usr/local/lib/libtbbbind_2_5.so.3 is not a symbolic link\n",
            "\n",
            "/sbin/ldconfig.real: /usr/local/lib/libtbbmalloc.so.2 is not a symbolic link\n",
            "\n",
            "/sbin/ldconfig.real: /usr/local/lib/libtbbbind_2_0.so.3 is not a symbolic link\n",
            "\n",
            "Reading package lists... Done\n",
            "Building dependency tree... Done\n",
            "Reading state information... Done\n",
            "Suggested packages:\n",
            "  libmpfr-doc\n",
            "The following NEW packages will be installed:\n",
            "  libmpfr-dev\n",
            "0 upgraded, 1 newly installed, 0 to remove and 45 not upgraded.\n",
            "Need to get 271 kB of archives.\n",
            "After this operation, 1,271 kB of additional disk space will be used.\n",
            "Get:1 http://archive.ubuntu.com/ubuntu jammy/main amd64 libmpfr-dev amd64 4.1.0-3build3 [271 kB]\n",
            "Fetched 271 kB in 0s (978 kB/s)\n",
            "Selecting previously unselected package libmpfr-dev:amd64.\n",
            "(Reading database ... 121805 files and directories currently installed.)\n",
            "Preparing to unpack .../libmpfr-dev_4.1.0-3build3_amd64.deb ...\n",
            "Unpacking libmpfr-dev:amd64 (4.1.0-3build3) ...\n",
            "Setting up libmpfr-dev:amd64 (4.1.0-3build3) ...\n",
            "Reading package lists... Done\n",
            "Building dependency tree... Done\n",
            "Reading state information... Done\n",
            "The following NEW packages will be installed:\n",
            "  libmpc-dev\n",
            "0 upgraded, 1 newly installed, 0 to remove and 45 not upgraded.\n",
            "Need to get 60.1 kB of archives.\n",
            "After this operation, 300 kB of additional disk space will be used.\n",
            "Get:1 http://archive.ubuntu.com/ubuntu jammy/main amd64 libmpc-dev amd64 1.2.1-2build1 [60.1 kB]\n",
            "Fetched 60.1 kB in 0s (386 kB/s)\n",
            "Selecting previously unselected package libmpc-dev:amd64.\n",
            "(Reading database ... 121819 files and directories currently installed.)\n",
            "Preparing to unpack .../libmpc-dev_1.2.1-2build1_amd64.deb ...\n",
            "Unpacking libmpc-dev:amd64 (1.2.1-2build1) ...\n",
            "Setting up libmpc-dev:amd64 (1.2.1-2build1) ...\n",
            "Reading package lists... Done\n",
            "Building dependency tree... Done\n",
            "Reading state information... Done\n",
            "The following additional packages will be installed:\n",
            "  libflint-2.8.4 libgf2x3 libntl44\n",
            "The following NEW packages will be installed:\n",
            "  libflint-2.8.4 libflint-dev libgf2x3 libntl44\n",
            "0 upgraded, 4 newly installed, 0 to remove and 45 not upgraded.\n",
            "Need to get 5,969 kB of archives.\n",
            "After this operation, 27.6 MB of additional disk space will be used.\n",
            "Get:1 http://archive.ubuntu.com/ubuntu jammy/universe amd64 libgf2x3 amd64 1.3.0-2 [27.9 kB]\n",
            "Get:2 http://archive.ubuntu.com/ubuntu jammy/universe amd64 libntl44 amd64 11.5.1-1 [838 kB]\n",
            "Get:3 http://archive.ubuntu.com/ubuntu jammy/universe amd64 libflint-2.8.4 amd64 2.8.4-2build1 [2,299 kB]\n",
            "Get:4 http://archive.ubuntu.com/ubuntu jammy/universe amd64 libflint-dev amd64 2.8.4-2build1 [2,804 kB]\n",
            "Fetched 5,969 kB in 0s (12.3 MB/s)\n",
            "Selecting previously unselected package libgf2x3:amd64.\n",
            "(Reading database ... 121829 files and directories currently installed.)\n",
            "Preparing to unpack .../libgf2x3_1.3.0-2_amd64.deb ...\n",
            "Unpacking libgf2x3:amd64 (1.3.0-2) ...\n",
            "Selecting previously unselected package libntl44:amd64.\n",
            "Preparing to unpack .../libntl44_11.5.1-1_amd64.deb ...\n",
            "Unpacking libntl44:amd64 (11.5.1-1) ...\n",
            "Selecting previously unselected package libflint-2.8.4:amd64.\n",
            "Preparing to unpack .../libflint-2.8.4_2.8.4-2build1_amd64.deb ...\n",
            "Unpacking libflint-2.8.4:amd64 (2.8.4-2build1) ...\n",
            "Selecting previously unselected package libflint-dev.\n",
            "Preparing to unpack .../libflint-dev_2.8.4-2build1_amd64.deb ...\n",
            "Unpacking libflint-dev (2.8.4-2build1) ...\n",
            "Setting up libgf2x3:amd64 (1.3.0-2) ...\n",
            "Setting up libntl44:amd64 (11.5.1-1) ...\n",
            "Setting up libflint-2.8.4:amd64 (2.8.4-2build1) ...\n",
            "Setting up libflint-dev (2.8.4-2build1) ...\n",
            "Processing triggers for libc-bin (2.35-0ubuntu3.4) ...\n",
            "/sbin/ldconfig.real: /usr/local/lib/libtbbbind.so.3 is not a symbolic link\n",
            "\n",
            "/sbin/ldconfig.real: /usr/local/lib/libtbbmalloc_proxy.so.2 is not a symbolic link\n",
            "\n",
            "/sbin/ldconfig.real: /usr/local/lib/libtbb.so.12 is not a symbolic link\n",
            "\n",
            "/sbin/ldconfig.real: /usr/local/lib/libtbbbind_2_5.so.3 is not a symbolic link\n",
            "\n",
            "/sbin/ldconfig.real: /usr/local/lib/libtbbmalloc.so.2 is not a symbolic link\n",
            "\n",
            "/sbin/ldconfig.real: /usr/local/lib/libtbbbind_2_0.so.3 is not a symbolic link\n",
            "\n",
            "Reading package lists... Done\n",
            "Building dependency tree... Done\n",
            "Reading state information... Done\n",
            "The following NEW packages will be installed:\n",
            "  palp\n",
            "0 upgraded, 1 newly installed, 0 to remove and 45 not upgraded.\n",
            "Need to get 749 kB of archives.\n",
            "After this operation, 3,183 kB of additional disk space will be used.\n",
            "Get:1 http://archive.ubuntu.com/ubuntu jammy/universe amd64 palp amd64 2.20-2 [749 kB]\n",
            "Fetched 749 kB in 1s (812 kB/s)\n",
            "Selecting previously unselected package palp.\n",
            "(Reading database ... 121991 files and directories currently installed.)\n",
            "Preparing to unpack .../archives/palp_2.20-2_amd64.deb ...\n",
            "Unpacking palp (2.20-2) ...\n",
            "Setting up palp (2.20-2) ...\n",
            "Processing triggers for man-db (2.10.2-1) ...\n"
          ]
        }
      ]
    },
    {
      "cell_type": "code",
      "source": [
        "!python3 --version"
      ],
      "metadata": {
        "colab": {
          "base_uri": "https://localhost:8080/"
        },
        "id": "HaxSGSGx9053",
        "outputId": "58e1ad62-98e6-4cb1-dfcd-433fcfca58bc"
      },
      "execution_count": null,
      "outputs": [
        {
          "output_type": "stream",
          "name": "stdout",
          "text": [
            "Python 3.10.12\n"
          ]
        }
      ]
    },
    {
      "cell_type": "code",
      "source": [
        "!pip install gmpy2 sympy tqdm python-flint ortools pandas qpsolvers\n",
        "!pip install cysignals\n",
        "!pip install pplpy\n",
        "!pip install scipy\n",
        "!pip install cytools"
      ],
      "metadata": {
        "colab": {
          "base_uri": "https://localhost:8080/"
        },
        "id": "K0fMn8zI3JJx",
        "outputId": "1f9f724c-3ca7-439f-e02f-7be253ac69f6"
      },
      "execution_count": null,
      "outputs": [
        {
          "output_type": "stream",
          "name": "stdout",
          "text": [
            "Collecting gmpy2\n",
            "  Downloading gmpy2-2.1.5-cp310-cp310-manylinux_2_17_x86_64.manylinux2014_x86_64.whl (1.7 MB)\n",
            "\u001b[2K     \u001b[90m━━━━━━━━━━━━━━━━━━━━━━━━━━━━━━━━━━━━━━━━\u001b[0m \u001b[32m1.7/1.7 MB\u001b[0m \u001b[31m8.0 MB/s\u001b[0m eta \u001b[36m0:00:00\u001b[0m\n",
            "\u001b[?25hRequirement already satisfied: sympy in /usr/local/lib/python3.10/dist-packages (1.12)\n",
            "Requirement already satisfied: tqdm in /usr/local/lib/python3.10/dist-packages (4.66.2)\n",
            "Collecting python-flint\n",
            "  Downloading python_flint-0.6.0-cp310-cp310-manylinux_2_17_x86_64.manylinux2014_x86_64.whl (41.1 MB)\n",
            "\u001b[2K     \u001b[90m━━━━━━━━━━━━━━━━━━━━━━━━━━━━━━━━━━━━━━━━\u001b[0m \u001b[32m41.1/41.1 MB\u001b[0m \u001b[31m9.0 MB/s\u001b[0m eta \u001b[36m0:00:00\u001b[0m\n",
            "\u001b[?25hCollecting ortools\n",
            "  Downloading ortools-9.9.3963-cp310-cp310-manylinux_2_17_x86_64.manylinux2014_x86_64.whl (24.8 MB)\n",
            "\u001b[2K     \u001b[90m━━━━━━━━━━━━━━━━━━━━━━━━━━━━━━━━━━━━━━━━\u001b[0m \u001b[32m24.8/24.8 MB\u001b[0m \u001b[31m24.4 MB/s\u001b[0m eta \u001b[36m0:00:00\u001b[0m\n",
            "\u001b[?25hRequirement already satisfied: pandas in /usr/local/lib/python3.10/dist-packages (1.5.3)\n",
            "Collecting qpsolvers\n",
            "  Downloading qpsolvers-4.3.2-py3-none-any.whl (79 kB)\n",
            "\u001b[2K     \u001b[90m━━━━━━━━━━━━━━━━━━━━━━━━━━━━━━━━━━━━━━━━\u001b[0m \u001b[32m79.6/79.6 kB\u001b[0m \u001b[31m9.1 MB/s\u001b[0m eta \u001b[36m0:00:00\u001b[0m\n",
            "\u001b[?25hRequirement already satisfied: mpmath>=0.19 in /usr/local/lib/python3.10/dist-packages (from sympy) (1.3.0)\n",
            "Collecting absl-py>=2.0.0 (from ortools)\n",
            "  Downloading absl_py-2.1.0-py3-none-any.whl (133 kB)\n",
            "\u001b[2K     \u001b[90m━━━━━━━━━━━━━━━━━━━━━━━━━━━━━━━━━━━━━━━━\u001b[0m \u001b[32m133.7/133.7 kB\u001b[0m \u001b[31m11.3 MB/s\u001b[0m eta \u001b[36m0:00:00\u001b[0m\n",
            "\u001b[?25hRequirement already satisfied: numpy>=1.13.3 in /usr/local/lib/python3.10/dist-packages (from ortools) (1.25.2)\n",
            "Collecting pandas\n",
            "  Downloading pandas-2.2.1-cp310-cp310-manylinux_2_17_x86_64.manylinux2014_x86_64.whl (13.0 MB)\n",
            "\u001b[2K     \u001b[90m━━━━━━━━━━━━━━━━━━━━━━━━━━━━━━━━━━━━━━━━\u001b[0m \u001b[32m13.0/13.0 MB\u001b[0m \u001b[31m19.7 MB/s\u001b[0m eta \u001b[36m0:00:00\u001b[0m\n",
            "\u001b[?25hCollecting protobuf>=4.25.3 (from ortools)\n",
            "  Downloading protobuf-5.26.1-cp37-abi3-manylinux2014_x86_64.whl (302 kB)\n",
            "\u001b[2K     \u001b[90m━━━━━━━━━━━━━━━━━━━━━━━━━━━━━━━━━━━━━━━━\u001b[0m \u001b[32m302.8/302.8 kB\u001b[0m \u001b[31m16.8 MB/s\u001b[0m eta \u001b[36m0:00:00\u001b[0m\n",
            "\u001b[?25hCollecting immutabledict>=3.0.0 (from ortools)\n",
            "  Downloading immutabledict-4.2.0-py3-none-any.whl (4.7 kB)\n",
            "Requirement already satisfied: python-dateutil>=2.8.2 in /usr/local/lib/python3.10/dist-packages (from pandas) (2.8.2)\n",
            "Requirement already satisfied: pytz>=2020.1 in /usr/local/lib/python3.10/dist-packages (from pandas) (2023.4)\n",
            "Collecting tzdata>=2022.7 (from pandas)\n",
            "  Downloading tzdata-2024.1-py2.py3-none-any.whl (345 kB)\n",
            "\u001b[2K     \u001b[90m━━━━━━━━━━━━━━━━━━━━━━━━━━━━━━━━━━━━━━━━\u001b[0m \u001b[32m345.4/345.4 kB\u001b[0m \u001b[31m17.4 MB/s\u001b[0m eta \u001b[36m0:00:00\u001b[0m\n",
            "\u001b[?25hRequirement already satisfied: scipy>=1.2.0 in /usr/local/lib/python3.10/dist-packages (from qpsolvers) (1.11.4)\n",
            "Requirement already satisfied: six>=1.5 in /usr/local/lib/python3.10/dist-packages (from python-dateutil>=2.8.2->pandas) (1.16.0)\n",
            "Installing collected packages: python-flint, gmpy2, tzdata, protobuf, immutabledict, absl-py, qpsolvers, pandas, ortools\n",
            "  Attempting uninstall: protobuf\n",
            "    Found existing installation: protobuf 3.20.3\n",
            "    Uninstalling protobuf-3.20.3:\n",
            "      Successfully uninstalled protobuf-3.20.3\n",
            "  Attempting uninstall: absl-py\n",
            "    Found existing installation: absl-py 1.4.0\n",
            "    Uninstalling absl-py-1.4.0:\n",
            "      Successfully uninstalled absl-py-1.4.0\n",
            "  Attempting uninstall: pandas\n",
            "    Found existing installation: pandas 1.5.3\n",
            "    Uninstalling pandas-1.5.3:\n",
            "      Successfully uninstalled pandas-1.5.3\n",
            "\u001b[31mERROR: pip's dependency resolver does not currently take into account all the packages that are installed. This behaviour is the source of the following dependency conflicts.\n",
            "google-ai-generativelanguage 0.4.0 requires protobuf!=3.20.0,!=3.20.1,!=4.21.0,!=4.21.1,!=4.21.2,!=4.21.3,!=4.21.4,!=4.21.5,<5.0.0dev,>=3.19.5, but you have protobuf 5.26.1 which is incompatible.\n",
            "google-api-core 2.11.1 requires protobuf!=3.20.0,!=3.20.1,!=4.21.0,!=4.21.1,!=4.21.2,!=4.21.3,!=4.21.4,!=4.21.5,<5.0.0.dev0,>=3.19.5, but you have protobuf 5.26.1 which is incompatible.\n",
            "google-cloud-aiplatform 1.45.0 requires protobuf!=3.20.0,!=3.20.1,!=4.21.0,!=4.21.1,!=4.21.2,!=4.21.3,!=4.21.4,!=4.21.5,<5.0.0dev,>=3.19.5, but you have protobuf 5.26.1 which is incompatible.\n",
            "google-cloud-bigquery 3.12.0 requires protobuf!=3.20.0,!=3.20.1,!=4.21.0,!=4.21.1,!=4.21.2,!=4.21.3,!=4.21.4,!=4.21.5,<5.0.0dev,>=3.19.5, but you have protobuf 5.26.1 which is incompatible.\n",
            "google-cloud-bigquery-connection 1.12.1 requires protobuf!=3.20.0,!=3.20.1,!=4.21.0,!=4.21.1,!=4.21.2,!=4.21.3,!=4.21.4,!=4.21.5,<5.0.0dev,>=3.19.5, but you have protobuf 5.26.1 which is incompatible.\n",
            "google-cloud-bigquery-storage 2.24.0 requires protobuf!=3.20.0,!=3.20.1,!=4.21.0,!=4.21.1,!=4.21.2,!=4.21.3,!=4.21.4,!=4.21.5,<5.0.0dev,>=3.19.5, but you have protobuf 5.26.1 which is incompatible.\n",
            "google-cloud-datastore 2.15.2 requires protobuf!=3.20.0,!=3.20.1,!=4.21.0,!=4.21.1,!=4.21.2,!=4.21.3,!=4.21.4,!=4.21.5,<5.0.0dev,>=3.19.5, but you have protobuf 5.26.1 which is incompatible.\n",
            "google-cloud-firestore 2.11.1 requires protobuf!=3.20.0,!=3.20.1,!=4.21.0,!=4.21.1,!=4.21.2,!=4.21.3,!=4.21.4,!=4.21.5,<5.0.0dev,>=3.19.5, but you have protobuf 5.26.1 which is incompatible.\n",
            "google-cloud-functions 1.13.3 requires protobuf!=3.20.0,!=3.20.1,!=4.21.0,!=4.21.1,!=4.21.2,!=4.21.3,!=4.21.4,!=4.21.5,<5.0.0dev,>=3.19.5, but you have protobuf 5.26.1 which is incompatible.\n",
            "google-cloud-iam 2.14.3 requires protobuf!=3.20.0,!=3.20.1,!=4.21.0,!=4.21.1,!=4.21.2,!=4.21.3,!=4.21.4,!=4.21.5,<5.0.0dev,>=3.19.5, but you have protobuf 5.26.1 which is incompatible.\n",
            "google-cloud-language 2.13.3 requires protobuf!=3.20.0,!=3.20.1,!=4.21.0,!=4.21.1,!=4.21.2,!=4.21.3,!=4.21.4,!=4.21.5,<5.0.0dev,>=3.19.5, but you have protobuf 5.26.1 which is incompatible.\n",
            "google-cloud-resource-manager 1.12.3 requires protobuf!=3.20.0,!=3.20.1,!=4.21.0,!=4.21.1,!=4.21.2,!=4.21.3,!=4.21.4,!=4.21.5,<5.0.0dev,>=3.19.5, but you have protobuf 5.26.1 which is incompatible.\n",
            "google-cloud-translate 3.11.3 requires protobuf!=3.20.0,!=3.20.1,!=4.21.0,!=4.21.1,!=4.21.2,!=4.21.3,!=4.21.4,!=4.21.5,<5.0.0dev,>=3.19.5, but you have protobuf 5.26.1 which is incompatible.\n",
            "google-colab 1.0.0 requires pandas==1.5.3, but you have pandas 2.2.1 which is incompatible.\n",
            "googleapis-common-protos 1.63.0 requires protobuf!=3.20.0,!=3.20.1,!=4.21.1,!=4.21.2,!=4.21.3,!=4.21.4,!=4.21.5,<5.0.0.dev0,>=3.19.5, but you have protobuf 5.26.1 which is incompatible.\n",
            "grpc-google-iam-v1 0.13.0 requires protobuf!=3.20.0,!=3.20.1,!=4.21.1,!=4.21.2,!=4.21.3,!=4.21.4,!=4.21.5,<5.0.0dev,>=3.19.5, but you have protobuf 5.26.1 which is incompatible.\n",
            "proto-plus 1.23.0 requires protobuf<5.0.0dev,>=3.19.0, but you have protobuf 5.26.1 which is incompatible.\n",
            "tensorflow 2.15.0 requires protobuf!=4.21.0,!=4.21.1,!=4.21.2,!=4.21.3,!=4.21.4,!=4.21.5,<5.0.0dev,>=3.20.3, but you have protobuf 5.26.1 which is incompatible.\n",
            "tensorflow-metadata 1.14.0 requires absl-py<2.0.0,>=0.9, but you have absl-py 2.1.0 which is incompatible.\n",
            "tensorflow-metadata 1.14.0 requires protobuf<4.21,>=3.20.3, but you have protobuf 5.26.1 which is incompatible.\u001b[0m\u001b[31m\n",
            "\u001b[0mSuccessfully installed absl-py-2.1.0 gmpy2-2.1.5 immutabledict-4.2.0 ortools-9.9.3963 pandas-2.2.1 protobuf-5.26.1 python-flint-0.6.0 qpsolvers-4.3.2 tzdata-2024.1\n",
            "Collecting cysignals\n",
            "  Downloading cysignals-1.11.4-cp310-cp310-manylinux_2_17_x86_64.manylinux2014_x86_64.whl (1.1 MB)\n",
            "\u001b[2K     \u001b[90m━━━━━━━━━━━━━━━━━━━━━━━━━━━━━━━━━━━━━━━━\u001b[0m \u001b[32m1.1/1.1 MB\u001b[0m \u001b[31m3.2 MB/s\u001b[0m eta \u001b[36m0:00:00\u001b[0m\n",
            "\u001b[?25hInstalling collected packages: cysignals\n",
            "Successfully installed cysignals-1.11.4\n",
            "Collecting pplpy\n",
            "  Downloading pplpy-0.8.10-cp310-cp310-manylinux_2_17_x86_64.manylinux2014_x86_64.whl (12.8 MB)\n",
            "\u001b[2K     \u001b[90m━━━━━━━━━━━━━━━━━━━━━━━━━━━━━━━━━━━━━━━━\u001b[0m \u001b[32m12.8/12.8 MB\u001b[0m \u001b[31m32.5 MB/s\u001b[0m eta \u001b[36m0:00:00\u001b[0m\n",
            "\u001b[?25hRequirement already satisfied: cysignals in /usr/local/lib/python3.10/dist-packages (from pplpy) (1.11.4)\n",
            "Requirement already satisfied: gmpy2>=2.1.0b1 in /usr/local/lib/python3.10/dist-packages (from pplpy) (2.1.5)\n",
            "Installing collected packages: pplpy\n",
            "Successfully installed pplpy-0.8.10\n",
            "Requirement already satisfied: scipy in /usr/local/lib/python3.10/dist-packages (1.11.4)\n",
            "Requirement already satisfied: numpy<1.28.0,>=1.21.6 in /usr/local/lib/python3.10/dist-packages (from scipy) (1.25.2)\n",
            "Collecting cytools\n",
            "  Downloading cytools-1.0.1-py3-none-any.whl (118 kB)\n",
            "\u001b[2K     \u001b[90m━━━━━━━━━━━━━━━━━━━━━━━━━━━━━━━━━━━━━━━━\u001b[0m \u001b[32m118.8/118.8 kB\u001b[0m \u001b[31m1.3 MB/s\u001b[0m eta \u001b[36m0:00:00\u001b[0m\n",
            "\u001b[?25hInstalling collected packages: cytools\n",
            "Successfully installed cytools-1.0.1\n"
          ]
        }
      ]
    },
    {
      "cell_type": "code",
      "source": [
        "from cytools import Polytope\n",
        "import numpy\n",
        "import requests"
      ],
      "metadata": {
        "id": "BxcIUAUx2NK3"
      },
      "execution_count": null,
      "outputs": []
    },
    {
      "cell_type": "markdown",
      "source": [
        "Take some 5D polytopes from [GitHub: elliheyes/Polytope-Generation](https://github.com/elliheyes/Polytope-Generation/tree/main/Data)"
      ],
      "metadata": {
        "id": "6xNpIo4waZ6z"
      }
    },
    {
      "cell_type": "code",
      "source": [
        "vertices = numpy.array([[-1, -1, -1, -1, -1],\n",
        "       [17, -1, -1, -1, -1],\n",
        "       [-1, 17, -1, -1, -1],\n",
        "       [-1, -1,  5, -1, -1],\n",
        "       [-1, -1, -1,  2, -1],\n",
        "       [-1, -1, -1, -1,  2]]\n",
        ")\n",
        "vv = vertices.transpose()\n",
        "\n",
        "print(repr(vv))\n",
        "\n",
        "p = Polytope(vv)\n",
        "#m = p.dual()\n",
        "#print(m.vertices())\n",
        "print(p.is_reflexive())\n",
        "p = Polytope(vertices)\n",
        "print(p.is_reflexive())\n",
        "h11 = p.hpq(1,1,lattice=\"N\")\n",
        "print(h11)\n",
        "h12 = p.hpq(1,2,lattice=\"N\")\n",
        "print(h12)\n",
        "h13 = p.hpq(1,3,lattice=\"N\")\n",
        "print(h13)\n",
        "h22 = p.hpq(2,2,lattice=\"N\")\n",
        "print(h22)\n",
        "chi = p.chi(lattice=\"N\")\n",
        "print('chi is ' + str(chi))\n"
      ],
      "metadata": {
        "colab": {
          "base_uri": "https://localhost:8080/"
        },
        "id": "z43OpTb9Vupc",
        "outputId": "6f8e3191-a231-41ee-c876-3f7de28cef25"
      },
      "execution_count": null,
      "outputs": [
        {
          "output_type": "stream",
          "name": "stdout",
          "text": [
            "array([[-1, 17, -1, -1, -1, -1],\n",
            "       [-1, -1, 17, -1, -1, -1],\n",
            "       [-1, -1, -1,  5, -1, -1],\n",
            "       [-1, -1, -1, -1,  2, -1],\n",
            "       [-1, -1, -1, -1, -1,  2]])\n",
            "False\n",
            "True\n",
            "900\n",
            "1\n",
            "5\n",
            "3662\n",
            "chi is 5472\n"
          ]
        }
      ]
    },
    {
      "cell_type": "code",
      "source": [
        "## code which will take the polytopes that we find using the GA and check them against the two DB's\n",
        "## dont exactly know the format rn so ill use this example matrix\n",
        "import os\n",
        "\n",
        "vertices = [[     0,     -1,      1,     -1,     -5],\n",
        "       [     0,      2,     -2,      1, -999999],\n",
        "       [     0,      1,      0,     -1,     -4],\n",
        "       [    -3,      0,      2,     -7,      0],\n",
        "       [    -1,     -1,      1,     -2,      0],\n",
        "       [     3,     -2,      1,      5, 2000001]]\n",
        "\n",
        "def delete_file(file_path):\n",
        "    if os.path.exists(file_path):\n",
        "        os.remove(file_path)\n",
        "        print(f\"File '{file_path}' deleted successfully.\")\n",
        "    else:\n",
        "        print(f\"File '{file_path}' does not exist.\")\n",
        "\n",
        "\n",
        "\n",
        "def is_file_empty(file_path):\n",
        "    return os.path.getsize(file_path) == 0\n",
        "\n",
        "def getinfo(polytope):\n",
        "  p = Polytope(vertices)\n",
        "\n",
        "  if p.is_reflexive() == False :\n",
        "    print(\"Poly isn't reflexive\")\n",
        "    return\n",
        "  print(p.is_reflexive())\n",
        "\n",
        "  h11 = p.hpq(1,1,lattice=\"N\")\n",
        "  print(h11)\n",
        "  h12 = p.hpq(1,2,lattice=\"N\")\n",
        "  print(h12)\n",
        "  h13 = p.hpq(1,3,lattice=\"N\")\n",
        "  print(h13)\n",
        "  h22 = p.hpq(2,2,lattice=\"N\")\n",
        "  print(h22)\n",
        "  chi = p.chi(lattice=\"N\")\n",
        "  print('chi is ' + str(chi))\n",
        "\n",
        "  Nv = numpy.shape(polytope)\n",
        "  print(Nv)\n",
        "  numpoints = Nv[0]\n",
        "  print(numpoints)\n",
        "\n",
        "  ## section which will compare if the poly is found in Elli's database\n",
        "\n",
        "  filename = '5d_'+str(numpoints)+'p.txt'\n",
        "  print(filename)\n",
        "  with open(r'/content/'+filename, 'r') as fp:\n",
        "    polyfoundindb1 = False\n",
        "    # read all lines using readline()\n",
        "    lines = fp.readlines()\n",
        "    for line_number, row in enumerate(lines, start=1):\n",
        "        # check if string present on a current line\n",
        "        word = str(h11) + ',' + str(h12) + ',' + str(h13)\n",
        "        # find() method returns -1 if the value is not found,\n",
        "        # if found it returns index of the first occurrence of the substring\n",
        "        if word in row:\n",
        "            print('String exists in file at line number:', line_number)\n",
        "            polyfoundindb1 = True\n",
        "    if polyfoundindb1 == False :\n",
        "      print(\"poly not found in db1\")\n",
        "\n",
        "\n",
        "\n",
        "  ## Search the giant database\n",
        "  ## format for querying the db URL : http://rgc.itp.tuwien.ac.at/fourfolds/db/5d_reflexive,h11=373,h12=0,h13=1.txt\n",
        "  url = 'http://rgc.itp.tuwien.ac.at/fourfolds/db/5d_reflexive,h11='+str(h11)+',h12='+str(h12)+',h13='+str(h13)+'.txt'\n",
        "  output_file = str(h11)+','+str(h12)+','+str(h13)+'.txt'\n",
        "  polyfoundindb2 = False\n",
        "  # Send a GET request to the URL\n",
        "  response = requests.get(url)\n",
        "\n",
        "  # Check if the request was successful (status code 200)\n",
        "  if response.status_code == 200:\n",
        "      # Write the content to a local file\n",
        "      with open(output_file, 'wb') as f:\n",
        "          f.write(response.content)\n",
        "          if is_file_empty(output_file):\n",
        "            print(\"The file is empty. Polytope not found in big dataset\")\n",
        "            delete_file(output_file)\n",
        "          else :\n",
        "            print(\"hodge numbers found in dataset. Downloading file\")\n",
        "            polyfoundindb2 == True\n",
        "  else:\n",
        "      print(\"Failed to download file. Status code:\", response.status_code)\n",
        "  if polyfoundindb2 == False:\n",
        "    print(\"poly not found in big db\")\n",
        "\n",
        "  if polyfoundindb2 == polyfoundindb1 == False:\n",
        "    print(\"totally new poly!\")\n",
        "\n",
        "getinfo(vertices)"
      ],
      "metadata": {
        "colab": {
          "base_uri": "https://localhost:8080/"
        },
        "id": "VMnUgCzXEyET",
        "outputId": "113bb39d-c42f-43ef-c6f0-af5ef046e1a5"
      },
      "execution_count": null,
      "outputs": [
        {
          "output_type": "stream",
          "name": "stdout",
          "text": [
            "True\n",
            "5\n",
            "1\n",
            "900\n",
            "3662\n",
            "chi is 5472\n",
            "(6, 5)\n",
            "6\n",
            "5d_6p.txt\n",
            "poly not found in db1\n",
            "The file is empty. Polytope not found in big dataset\n",
            "File '5,1,900.txt' deleted successfully.\n",
            "poly not found in big db\n",
            "totally new poly!\n"
          ]
        }
      ]
    },
    {
      "cell_type": "code",
      "source": [
        "url = 'http://rgc.itp.tuwien.ac.at/fourfolds/db/5d_reflexive,h11=373,h12=0,h13=1.txt'\n",
        "output_file = 'downloaded_file.txt'\n",
        "\n",
        "# Send a GET request to the URL\n",
        "response = requests.get(url)\n",
        "\n",
        "# Check if the request was successful (status code 200)\n",
        "if response.status_code == 200:\n",
        "    # Write the content to a local file\n",
        "    with open(output_file, 'wb') as f:\n",
        "        f.write(response.content)\n",
        "    print(\"File downloaded successfully.\")\n",
        "else:\n",
        "    print(\"Failed to download file. Status code:\", response.status_code)\n",
        "\n",
        "print(downloaded_file.txt)"
      ],
      "metadata": {
        "id": "SF7xYyoRnESq",
        "colab": {
          "base_uri": "https://localhost:8080/",
          "height": 193
        },
        "outputId": "c613f11a-b1fe-4f5f-fbdf-223f32be5d5d"
      },
      "execution_count": null,
      "outputs": [
        {
          "output_type": "stream",
          "name": "stdout",
          "text": [
            "File downloaded successfully.\n"
          ]
        },
        {
          "output_type": "error",
          "ename": "NameError",
          "evalue": "name 'downloaded_file' is not defined",
          "traceback": [
            "\u001b[0;31m---------------------------------------------------------------------------\u001b[0m",
            "\u001b[0;31mNameError\u001b[0m                                 Traceback (most recent call last)",
            "\u001b[0;32m<ipython-input-31-ef54e5b97013>\u001b[0m in \u001b[0;36m<cell line: 16>\u001b[0;34m()\u001b[0m\n\u001b[1;32m     14\u001b[0m     \u001b[0mprint\u001b[0m\u001b[0;34m(\u001b[0m\u001b[0;34m\"Failed to download file. Status code:\"\u001b[0m\u001b[0;34m,\u001b[0m \u001b[0mresponse\u001b[0m\u001b[0;34m.\u001b[0m\u001b[0mstatus_code\u001b[0m\u001b[0;34m)\u001b[0m\u001b[0;34m\u001b[0m\u001b[0;34m\u001b[0m\u001b[0m\n\u001b[1;32m     15\u001b[0m \u001b[0;34m\u001b[0m\u001b[0m\n\u001b[0;32m---> 16\u001b[0;31m \u001b[0mprint\u001b[0m\u001b[0;34m(\u001b[0m\u001b[0mdownloaded_file\u001b[0m\u001b[0;34m.\u001b[0m\u001b[0mtxt\u001b[0m\u001b[0;34m)\u001b[0m\u001b[0;34m\u001b[0m\u001b[0;34m\u001b[0m\u001b[0m\n\u001b[0m",
            "\u001b[0;31mNameError\u001b[0m: name 'downloaded_file' is not defined"
          ]
        }
      ]
    },
    {
      "cell_type": "code",
      "source": [
        "vertices = [[-4, 3, 1, -3, 2],\n",
        " [1, 4, -4, -2, -3],\n",
        " [-1,  0,  2, -2,  1],\n",
        " [ 4,  0, -3, -2, -4],\n",
        " [ 2, -1,  0, -2,  1],\n",
        " [-1,  2,  0, -2,  1],\n",
        " [ 3, -3,  4,  1, -2]]\n",
        "p = Polytope(vertices)\n",
        "print(p.is_reflexive())"
      ],
      "metadata": {
        "colab": {
          "base_uri": "https://localhost:8080/"
        },
        "id": "fCbDB5tbNh7k",
        "outputId": "e914bd16-7485-4ecf-ca43-66295acff00e"
      },
      "execution_count": null,
      "outputs": [
        {
          "output_type": "stream",
          "name": "stdout",
          "text": [
            "False\n"
          ]
        }
      ]
    }
  ]
}