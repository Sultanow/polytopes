{
 "cells": [
  {
   "cell_type": "code",
   "execution_count": 1,
   "metadata": {},
   "outputs": [],
   "source": [
    "import numpy as np\n",
    "import matplotlib.pyplot as plt\n",
    "import cdd\n",
    "\n",
    "import plotly.graph_objects as go\n",
    "from scipy.spatial import ConvexHull"
   ]
  },
  {
   "cell_type": "code",
   "execution_count": 2,
   "metadata": {},
   "outputs": [],
   "source": [
    "#V = np.array([[-1,0,1,1,-1], [0,1,-1,-1,1], [0,-3,-1,1,0], [-1,0,0,-1,0], [-1,1,-1,-1,1], [0,-1,1,1,0], [0,0,0,-1,0]])\n",
    "#V = np.array([[-2,0,1,0,-1], [1,0,1,-1,2], [-1,1,-1,-2,0], [1,-1,0,2,0], [1,0,0,-1,0], [0,0,0,2,-1]])\n",
    "\n",
    "#V = np.array([[-2, 3, 1, -3, 0], [1, -2, -1, 2, 0], [4, -4, 1,  2, -2], [1, 2, 3, 0, -1], [-3, 3, -1, -2, 2], [1, 2, 3, -3, -1], [-2, -1, -3, 0, 2]])\n",
    "#V = np.array([[4, -2, 3, 2, -3], [1, -2, -1, 2, 0], [4, -4, 1, 2, -2], [1, 2, 3, 0, -1], [-3, 3, -1, -2, 2], [1, 2, 3, -3, -1], [-2, -4, -5, 2, 1]])\n",
    "\n",
    "V = np.array([[ -2,   0,   0,   1,  -1], [  1,   0,   0,  -2,  -2], [  0,   0,   0,   1,   1], [ -2,  -1,   0,  -2, -1], [ -3,   2,  -1,   5,  -2], [  1,   0,   0,  -1,   0], [  0,  -1,   1,   1,   3], [  6,  -1,   1,  -5,   1], [-12,   2,  -2,   7,  -7]])"
   ]
  },
  {
   "cell_type": "code",
   "execution_count": 3,
   "metadata": {},
   "outputs": [
    {
     "data": {
      "image/png": "[encoded data removed]",
      "text/plain": [
       "<Figure size 1000x1000 with 1 Axes>"
      ]
     },
     "metadata": {},
     "output_type": "display_data"
    }
   ],
   "source": [
    "#project the 5D polyhedron to 3D\n",
    "#see: https://math.stackexchange.com/questions/2677864/how-to-project-5d-to-3d\n",
    "#and: https://stackoverflow.com/questions/13548241/python-numpy-optimization-n-dimensional-projection\n",
    "def nsphere(mat, littleD=3):\n",
    "    projected_mat = np.empty([0, 3])\n",
    "    for a in mat:\n",
    "        a = a / np.sqrt(np.dot(a, a))\n",
    "        z = a[littleD:].sum()\n",
    "        projected_mat = np.append(projected_mat, np.array([a[:littleD] / (1. - z)]), axis=0)\n",
    "    return projected_mat\n",
    "\n",
    "V = nsphere(V)\n",
    "\n",
    "# to get the convex hull with cdd, one has to prepend a column of ones\n",
    "num_verts = V.shape[0]\n",
    "vertices = np.hstack((np.ones((num_verts,1)), V))\n",
    "\n",
    "# construct the polyhedron\n",
    "mat = cdd.Matrix(vertices, linear=False, number_type=\"float\") \n",
    "mat.rep_type = cdd.RepType.GENERATOR\n",
    "poly = cdd.Polyhedron(mat)\n",
    "\n",
    "# get the adjacent vertices of each vertex\n",
    "adjacencies = [list(x) for x in poly.get_input_adjacency()]\n",
    "\n",
    "# store the edges in a matrix (giving the indices of the points)\n",
    "edges = [None]*(num_verts-1)\n",
    "for i,indices in enumerate(adjacencies[:-1]):\n",
    "    indices = list(filter(lambda x: x>i, indices))\n",
    "    l = len(indices)\n",
    "    col1 = np.full((l, 1), i)\n",
    "    indices = np.reshape(indices, (l, 1))\n",
    "    edges[i] = np.hstack((col1, indices))\n",
    "Edges = np.vstack(tuple(edges)).astype(int)\n",
    "\n",
    "num_edges = Edges.shape[0]\n",
    "\n",
    "# plot\n",
    "fig = plt.figure(figsize=(10, 10))\n",
    "ax = fig.add_subplot(111, projection=\"3d\")\n",
    "\n",
    "start = V[Edges[:,0]]\n",
    "end = V[Edges[:,1]]\n",
    "\n",
    "for i in range(num_edges):\n",
    "    ax.plot(\n",
    "        [start[i,0], end[i,0]], \n",
    "        [start[i,1], end[i,1]], \n",
    "        [start[i,2], end[i,2]],\n",
    "        \"blue\"\n",
    "    )\n",
    "\n",
    "plt.axis('off')\n",
    "plt.show()"
   ]
  },
  {
   "cell_type": "code",
   "execution_count": 4,
   "metadata": {},
   "outputs": [
    {
     "name": "stderr",
     "output_type": "stream",
     "text": [
      "C:\\Users\\esultano\\AppData\\Local\\Temp\\ipykernel_36152\\3692219354.py:7: RuntimeWarning: invalid value encountered in divide\n",
      "  a = a / np.sqrt(np.dot(a, a))\n"
     ]
    },
    {
     "ename": "ValueError",
     "evalue": "Points cannot contain NaN",
     "output_type": "error",
     "traceback": [
      "\u001b[1;31m---------------------------------------------------------------------------\u001b[0m",
      "\u001b[1;31mValueError\u001b[0m                                Traceback (most recent call last)",
      "Cell \u001b[1;32mIn[4], line 14\u001b[0m\n\u001b[0;32m     10\u001b[0m     \u001b[38;5;28;01mreturn\u001b[39;00m projected_mat\n\u001b[0;32m     12\u001b[0m V \u001b[38;5;241m=\u001b[39m nsphere(V)\n\u001b[1;32m---> 14\u001b[0m hull \u001b[38;5;241m=\u001b[39m ConvexHull(V)\n\u001b[0;32m     15\u001b[0m hull_points \u001b[38;5;241m=\u001b[39m hull\u001b[38;5;241m.\u001b[39mpoints\n\u001b[0;32m     16\u001b[0m hull_simplices \u001b[38;5;241m=\u001b[39m hull\u001b[38;5;241m.\u001b[39msimplices\n",
      "File \u001b[1;32m_qhull.pyx:2458\u001b[0m, in \u001b[0;36mscipy.spatial._qhull.ConvexHull.__init__\u001b[1;34m()\u001b[0m\n",
      "File \u001b[1;32m_qhull.pyx:280\u001b[0m, in \u001b[0;36mscipy.spatial._qhull._Qhull.__init__\u001b[1;34m()\u001b[0m\n",
      "\u001b[1;31mValueError\u001b[0m: Points cannot contain NaN"
     ]
    }
   ],
   "source": [
    "#project the 5D polyhedron to 3D\n",
    "#see: https://math.stackexchange.com/questions/2677864/how-to-project-5d-to-3d\n",
    "#and: https://stackoverflow.com/questions/13548241/python-numpy-optimization-n-dimensional-projection\n",
    "def nsphere(mat, littleD=3):\n",
    "    projected_mat = np.empty([0, 3])\n",
    "    for a in mat:\n",
    "        a = a / np.sqrt(np.dot(a, a))\n",
    "        z = a[littleD:].sum()\n",
    "        projected_mat = np.append(projected_mat, np.array([a[:littleD] / (1. - z)]), axis=0)\n",
    "    return projected_mat\n",
    "\n",
    "V = nsphere(V)\n",
    "\n",
    "hull = ConvexHull(V)\n",
    "hull_points = hull.points\n",
    "hull_simplices = hull.simplices\n",
    "\n",
    "x = hull_points[:, 0]\n",
    "y = hull_points[:, 1]\n",
    "z = hull_points[:, 2]\n",
    "\n",
    "i = hull_simplices[:, 0]\n",
    "j = hull_simplices[:, 1]\n",
    "k = hull_simplices[:, 2]\n",
    "\n",
    "mesh3d  = go.Mesh3d(x=x, y=y, z=z, i=i, j=j, k=k, opacity=1.0, flatshading=True, color=\"#ce6a6b\")\n",
    "layout = go.Layout(width=600, height=600, title_text='polytope', title_x=0.5)\n",
    "fig = go.Figure(data=[mesh3d], layout=layout)\n",
    "fig.layout.scene.update(xaxis_showticklabels=False, xaxis_ticks='', xaxis_title='',\n",
    "                        yaxis_showticklabels=False, yaxis_ticks='',yaxis_title='',\n",
    "                        zaxis_showticklabels=False, zaxis_ticks='', zaxis_title='')\n",
    "fig.data[0].update(lighting=dict(ambient=0.5, diffuse=1, fresnel=4, specular=0.5, roughness=0.5))\n",
    "\n",
    "fig.show()"
   ]
  }
 ],
 "metadata": {
  "kernelspec": {
   "display_name": "base",
   "language": "python",
   "name": "python3"
  },
  "language_info": {
   "codemirror_mode": {
    "name": "ipython",
    "version": 3
   },
   "file_extension": ".py",
   "mimetype": "text/x-python",
   "name": "python",
   "nbconvert_exporter": "python",
   "pygments_lexer": "ipython3",
   "version": "3.11.6"
  },
  "orig_nbformat": 4
 },
 "nbformat": 4,
 "nbformat_minor": 2
}
