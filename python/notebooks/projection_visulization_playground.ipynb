{
 "cells": [
  {
   "cell_type": "markdown",
   "metadata": {},
   "source": [
    "# Stereographic Visualization of 5-Dimensional Regular Polytopes\n",
    "(https://www.mdpi.com/2073-8994/11/3/391#FD7-symmetry-11-00391)"
   ]
  },
  {
   "cell_type": "markdown",
   "metadata": {},
   "source": [
    "## Implementation of the Fundemental Region Algorithm (FRA) according to Wang et al."
   ]
  },
  {
   "cell_type": "code",
   "execution_count": 1,
   "metadata": {},
   "outputs": [],
   "source": [
    "import numpy as np\n",
    "\n",
    "def fundamental_region_algorithm(x_0, fundamental_root_system):\n",
    "    '''\n",
    "    Implementation of the Fundemental Region Algorithm for stereographic projection (Want et al., 2019).\n",
    "\n",
    "            Parameters:\n",
    "                    x_0 (list): input vector\n",
    "                    fundamental_root_system (list): list of the normal vectors of the fundamental region.\n",
    "\n",
    "            Returns:\n",
    "                    x_n: reflected point, that is element of the fundamental region\n",
    "                    n: reflection number\n",
    "    '''\n",
    "    # define reflection number n and sign\n",
    "    n = 0\n",
    "    sign = 0\n",
    "    # list of points and reflections \n",
    "    list_of_points = [x_0]\n",
    "\n",
    "    # compute sign for relation between x_0 and v_k\n",
    "    for v_k in fundamental_root_system:\n",
    "        if np.dot(x_0,v_k) > 0 :\n",
    "            sign += 1\n",
    "    \n",
    "    while sign < 5:\n",
    "        n += 1\n",
    "        for v_k in fundamental_root_system:\n",
    "            if np.dot(list_of_points[n-1], v_k) < 0:\n",
    "                # stereographic projection\n",
    "                x_n = (np.array(list_of_points[n-1]) - 2 * np.dot(list_of_points[n-1], v_k) / np.dot(v_k, v_k) * np.array(v_k)).tolist()\n",
    "            \n",
    "            # compute sign for elation between x_n and v_i\n",
    "            sign = 0\n",
    "            for v_i in fundamental_root_system:\n",
    "                if np.dot(x_n, v_i) > 0:\n",
    "                    sign += 1\n",
    "            \n",
    "            # break while loop (but why?)\n",
    "            list_of_points.append(x_n)\n",
    "            break\n",
    "\n",
    "    return x_n, n"
   ]
  },
  {
   "cell_type": "code",
   "execution_count": null,
   "metadata": {},
   "outputs": [],
   "source": [
    "# inverse stereographic projection from 3D to 5D\n",
    "\n",
    "def get_theta_three_squared(vector_3d, radius_3):\n",
    "    return radius_3**2 * np.dot(vector_3d, vector_3d)\n",
    "\n",
    "def get_theta_four_squared(vector_3d,radius_4, theta3_squared):\n",
    "    return (radius_4 / theta3_squared + 1)**2 * (4*theta3_squared + (theta3_squared - 1)**2)\n",
    "\n",
    "def inv_stereo_projection(vector_3d, radius_3, radius_4, theta3_squared, theta4_squared):\n",
    "    factor = 1 / (theta4_squared + 1) * radius_3 * radius_4 / (theta3_squared + 1)\n",
    "    vector_5d = np.zeros(5)\n",
    "    vector_5d[:3] = 4 * vector_3d\n",
    "    x4 = 2 * (theta3_squared - 1) / radius_3\n",
    "    x5 = (theta3_squared + 1) * (theta4_squared - 1) / (radius_3*radius_4)\n",
    "    vector_5d[3:] = np.array([x4, x5])\n",
    "    return factor * vector_5d"
   ]
  },
  {
   "cell_type": "code",
   "execution_count": null,
   "metadata": {},
   "outputs": [],
   "source": [
    "# testing\n",
    "x_0 = [1,0,-1,4,-5]\n",
    "fundamental_region_system = [[]]"
   ]
  }
 ],
 "metadata": {
  "kernelspec": {
   "display_name": "Python 3.11.2 64-bit",
   "language": "python",
   "name": "python3"
  },
  "language_info": {
   "codemirror_mode": {
    "name": "ipython",
    "version": 3
   },
   "file_extension": ".py",
   "mimetype": "text/x-python",
   "name": "python",
   "nbconvert_exporter": "python",
   "pygments_lexer": "ipython3",
   "version": "3.11.2"
  },
  "orig_nbformat": 4,
  "vscode": {
   "interpreter": {
    "hash": "b0fa6594d8f4cbf19f97940f81e996739fb7646882a419484c72d19e05852a7e"
   }
  }
 },
 "nbformat": 4,
 "nbformat_minor": 2
}
