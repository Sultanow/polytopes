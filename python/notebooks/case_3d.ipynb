{
 "cells": [
  {
   "cell_type": "code",
   "execution_count": 1,
   "metadata": {},
   "outputs": [],
   "source": [
    "# !pip install func_timeout\n",
    "# !pip install FunctionTimedOut"
   ]
  },
  {
   "cell_type": "code",
   "execution_count": 2,
   "metadata": {},
   "outputs": [],
   "source": [
    "from threading import Thread\n",
    "import functools\n",
    "\n",
    "#V= np.array([[-4, 3, 1, -3, 2], [1, 4, -4, -2, -3], [-1,  0,  2, -2,  1], [ 4,  0, -3, -2, -4], [ 2, -1,  0, -2,  1], [-1,  2,  0, -2,  1], [ 3, -3,  4,  1, -2]])\n",
    "\n",
    "def timeout(timeout):\n",
    "    def deco(func):\n",
    "        @functools.wraps(func)\n",
    "        def wrapper(*args, **kwargs):\n",
    "            res = [Exception('function [%s] timeout [%s seconds] exceeded!' % (func.__name__, timeout))]\n",
    "            def newFunc():\n",
    "                try:\n",
    "                    res[0] = func(*args, **kwargs)\n",
    "                except Exception as e:\n",
    "                    res[0] = e\n",
    "            t = Thread(target=newFunc)\n",
    "            t.daemon = True\n",
    "            try:\n",
    "                t.start()\n",
    "                t.join(timeout)\n",
    "            except Exception as je:\n",
    "                print ('error starting thread')\n",
    "                raise je\n",
    "            ret = res[0]\n",
    "            if isinstance(ret, BaseException):\n",
    "                raise ret\n",
    "            return ret\n",
    "        return wrapper\n",
    "    return deco\n",
    "\n",
    "#func = timeout(timeout=5)(calc_fitness(V))\n",
    "\n",
    "\n",
    "# func = timeout(timeout=16)(MyModule.MyFunc)\n",
    "# try:\n",
    "#     func()\n",
    "# except:\n",
    "#     pass #handle errors here"
   ]
  },
  {
   "cell_type": "code",
   "execution_count": 3,
   "metadata": {},
   "outputs": [],
   "source": [
    "import numpy as np\n",
    "from fractions import Fraction\n",
    "import cdd\n",
    "from polytope.polytope import qhull, enumerate_integral_points, ABS_TOL"
   ]
  },
  {
   "cell_type": "code",
   "execution_count": 4,
   "metadata": {},
   "outputs": [],
   "source": [
    "from func_timeout import func_timeout, FunctionTimedOut\n",
    "\n",
    "#code based on https://github.com/stephane-caron/pypoman/blob/master/pypoman/duality.py\n",
    "def compute_distances(vertices: np.ndarray) -> np.ndarray:\n",
    "    \n",
    "    #print(vertices)\n",
    "    V = np.vstack(vertices)\n",
    "    t = np.ones((V.shape[0], 1))  # first column is 1 for vertices\n",
    "    tV = np.hstack([t, V])\n",
    "    mat = cdd.Matrix(tV, number_type=\"fraction\")\n",
    "    mat.rep_type = cdd.RepType.GENERATOR\n",
    "    P = cdd.Polyhedron(mat)\n",
    "    bA = np.array(P.get_inequalities())\n",
    "    if bA.shape == (0,):  # bA == []\n",
    "        return bA\n",
    "    # the polyhedron is given by b + A x >= 0 where bA = [b|A]\n",
    "    b = bA[:, 0]\n",
    "    A = -np.array(bA[:, 1:])\n",
    "\n",
    "    for i, row in enumerate(A):\n",
    "        denominators = []\n",
    "        has_fraction = False\n",
    "        for j in row:\n",
    "            if type(j) == Fraction:\n",
    "                has_fraction = True\n",
    "                denominators.append(j.denominator)    \n",
    "        if has_fraction:\n",
    "            b[i] *= np.lcm.reduce(denominators)\n",
    "    return b\n",
    "\n",
    "#from func_timeout import func_timeout, FunctionTimedOut\n",
    "\n",
    "@timeout(60)\n",
    "def calc_fitness(vertices):\n",
    "    integral_points = enumerate_integral_points(qhull(vertices))\n",
    "    integral_points = integral_points.transpose()\n",
    "    integral_points = integral_points.astype(int)\n",
    "    ip_count = len(integral_points)\n",
    "    distances = compute_distances(vertices)\n",
    "    result = 0\n",
    "    if ip_count > 1:\n",
    "        result -= 1\n",
    "    for d in distances:\n",
    "        result -= abs(d-1)\n",
    "    return result"
   ]
  },
  {
   "cell_type": "code",
   "execution_count": 5,
   "metadata": {},
   "outputs": [
    {
     "name": "stdout",
     "output_type": "stream",
     "text": [
      "using ABS_TOL: -1e-07\n",
      "fitness: 0\n"
     ]
    }
   ],
   "source": [
    "\n",
    "\n",
    "\n",
    "\n",
    "print(\"using ABS_TOL: {0}\".format(ABS_TOL))\n",
    "\n",
    "\n",
    "\n",
    "\n",
    "#reflexive\n",
    "#V = np.array([[1, 0, -2], [-2, -3, 2], [-1, -2, 1], [1, 2, -1], [1, 2, 0]])\n",
    "#non-reflexive\n",
    "#V = np.array([[-1, -2, 2], [1, 2, -2], [-3, -2, 0], [1, 2, -3], [0, -1, 2]])\n",
    "\n",
    "#V = np.array([[0,-2,1], [-1, 1, 0], [2, 1, -1], [0, -2, 2], [-1, 0, -3]])\n",
    "\n",
    "#V = np.array([[0,-3,-1], [0,2,1], [-1,-3,-2], [-1,1,-2], [-1,-2,-3]])\n",
    "\n",
    "#V= np.array([[-11, 7, 30, -15, 1], [-13, 10, -70, 1, 5], [7, -6, -25, 0, 9], [-13, 1, -15, 13, -11], [-14, 5, 13, 1, -2], [-2, 2, -10, 1, -3], [7, -8, 2, -7, 10]])\n",
    "\n",
    "V = np.array([[-2,  3,  1, -3,  0],\n",
    "       [ 1, -2, -1,  2,  0],\n",
    "       [ 4, -4,  1,  2, -2],\n",
    "       [ 1,  2,  3,  0, -1],\n",
    "       [-3,  3, -1, -2,  2],\n",
    "       [ 1,  2,  3, -3, -1],\n",
    "       [-2, -1, -3,  0,  2]])\n",
    "\n",
    "# integral_points = enumerate_integral_points(qhull(V))\n",
    "# integral_points = integral_points.transpose()\n",
    "# integral_points = integral_points.astype(int)\n",
    "# print(\"integral_points: {0}\".format(integral_points))\n",
    "# print(\"distance vector: {0}\".format(compute_distances(V)))\n",
    "print(\"fitness: {0}\".format(calc_fitness(V)))\n"
   ]
  },
  {
   "cell_type": "code",
   "execution_count": null,
   "metadata": {},
   "outputs": [],
   "source": [
    "\n",
    "\n",
    "\n"
   ]
  },
  {
   "cell_type": "code",
   "execution_count": 11,
   "metadata": {},
   "outputs": [
    {
     "data": {
      "image/png": "[encoded data removed]",
      "text/plain": [
       "<Figure size 640x480 with 1 Axes>"
      ]
     },
     "metadata": {},
     "output_type": "display_data"
    }
   ],
   "source": [
    "import matplotlib.pyplot as plt\n",
    "\n",
    "V = np.array([[1, 0, -2], [-2, -3, 2], [-1, -2, 1], [1, 2, -1], [1, 2, 0]])\n",
    "#V = np.array([[-1, -2, 2], [1, 2, -2], [-3, -2, 0], [1, 2, -3], [0, -1, 2]])\n",
    "#V = np.array([[-1,-1,-1], [1,-1,-1], [1,1,-1], [-1,1,-1], [-1,1,1], [1,1,1], [1,-1,1], [-1,-1,1]])\n",
    "\n",
    "\n",
    "# to get the convex hull with cdd, one has to prepend a column of ones\n",
    "num_verts = V.shape[0]\n",
    "vertices = np.hstack((np.ones((num_verts,1)), V))\n",
    "\n",
    "# construct the polyhedron\n",
    "mat = cdd.Matrix(vertices, linear=False, number_type=\"float\") \n",
    "mat.rep_type = cdd.RepType.GENERATOR\n",
    "poly = cdd.Polyhedron(mat)\n",
    "\n",
    "# get the adjacent vertices of each vertex\n",
    "adjacencies = [list(x) for x in poly.get_input_adjacency()]\n",
    "\n",
    "# store the edges in a matrix (giving the indices of the points)\n",
    "edges = [None]*(num_verts-1)\n",
    "for i,indices in enumerate(adjacencies[:-1]):\n",
    "    indices = list(filter(lambda x: x>i, indices))\n",
    "    l = len(indices)\n",
    "    col1 = np.full((l, 1), i)\n",
    "    indices = np.reshape(indices, (l, 1))\n",
    "    edges[i] = np.hstack((col1, indices))\n",
    "Edges = np.vstack(tuple(edges))\n",
    "\n",
    "num_edges = Edges.shape[0]\n",
    "\n",
    "# plot\n",
    "fig = plt.figure()\n",
    "ax = fig.add_subplot(111, projection=\"3d\")\n",
    "\n",
    "start = V[Edges[:,0]]\n",
    "end = V[Edges[:,1]]\n",
    "\n",
    "for i in range(num_edges):\n",
    "    ax.plot(\n",
    "        [start[i,0], end[i,0]], \n",
    "        [start[i,1], end[i,1]], \n",
    "        [start[i,2], end[i,2]],\n",
    "        \"blue\"\n",
    "    )\n",
    "\n",
    "ax.set_xlabel(\"x\")\n",
    "ax.set_ylabel(\"y\")\n",
    "ax.set_zlabel(\"z\")\n",
    "\n",
    "plt.show()"
   ]
  },
  {
   "cell_type": "code",
   "execution_count": 12,
   "metadata": {},
   "outputs": [
    {
     "data": {
      "application/vnd.plotly.v1+json": {
       "config": {
        "plotlyServerURL": "https://plot.ly"
       },
       "data": [
        {
         "color": "#ce6a6b",
         "flatshading": true,
         "i": [
          3,
          3,
          7,
          7,
          7,
          7,
          5,
          5,
          5,
          5,
          5,
          5
         ],
         "j": [
          2,
          1,
          3,
          3,
          1,
          6,
          3,
          3,
          2,
          6,
          7,
          7
         ],
         "k": [
          1,
          0,
          0,
          4,
          0,
          1,
          2,
          4,
          1,
          1,
          4,
          6
         ],
         "lighting": {
          "ambient": 0.5,
          "diffuse": 1,
          "fresnel": 4,
          "roughness": 0.5,
          "specular": 0.5
         },
         "opacity": 1,
         "type": "mesh3d",
         "x": [
          -1,
          1,
          1,
          -1,
          -1,
          1,
          1,
          -1
         ],
         "y": [
          -1,
          -1,
          1,
          1,
          1,
          1,
          -1,
          -1
         ],
         "z": [
          -1,
          -1,
          -1,
          -1,
          1,
          1,
          1,
          1
         ]
        }
       ],
       "layout": {
        "height": 600,
        "scene": {
         "xaxis": {
          "showticklabels": false,
          "ticks": "",
          "title": {
           "text": ""
          }
         },
         "yaxis": {
          "showticklabels": false,
          "ticks": "",
          "title": {
           "text": ""
          }
         },
         "zaxis": {
          "showticklabels": false,
          "ticks": "",
          "title": {
           "text": ""
          }
         }
        },
        "template": {
         "data": {
          "bar": [
           {
            "error_x": {
             "color": "#2a3f5f"
            },
            "error_y": {
             "color": "#2a3f5f"
            },
            "marker": {
             "line": {
              "color": "#E5ECF6",
              "width": 0.5
             },
             "pattern": {
              "fillmode": "overlay",
              "size": 10,
              "solidity": 0.2
             }
            },
            "type": "bar"
           }
          ],
          "barpolar": [
           {
            "marker": {
             "line": {
              "color": "#E5ECF6",
              "width": 0.5
             },
             "pattern": {
              "fillmode": "overlay",
              "size": 10,
              "solidity": 0.2
             }
            },
            "type": "barpolar"
           }
          ],
          "carpet": [
           {
            "aaxis": {
             "endlinecolor": "#2a3f5f",
             "gridcolor": "white",
             "linecolor": "white",
             "minorgridcolor": "white",
             "startlinecolor": "#2a3f5f"
            },
            "baxis": {
             "endlinecolor": "#2a3f5f",
             "gridcolor": "white",
             "linecolor": "white",
             "minorgridcolor": "white",
             "startlinecolor": "#2a3f5f"
            },
            "type": "carpet"
           }
          ],
          "choropleth": [
           {
            "colorbar": {
             "outlinewidth": 0,
             "ticks": ""
            },
            "type": "choropleth"
           }
          ],
          "contour": [
           {
            "colorbar": {
             "outlinewidth": 0,
             "ticks": ""
            },
            "colorscale": [
             [
              0,
              "#0d0887"
             ],
             [
              0.1111111111111111,
              "#46039f"
             ],
             [
              0.2222222222222222,
              "#7201a8"
             ],
             [
              0.3333333333333333,
              "#9c179e"
             ],
             [
              0.4444444444444444,
              "#bd3786"
             ],
             [
              0.5555555555555556,
              "#d8576b"
             ],
             [
              0.6666666666666666,
              "#ed7953"
             ],
             [
              0.7777777777777778,
              "#fb9f3a"
             ],
             [
              0.8888888888888888,
              "#fdca26"
             ],
             [
              1,
              "#f0f921"
             ]
            ],
            "type": "contour"
           }
          ],
          "contourcarpet": [
           {
            "colorbar": {
             "outlinewidth": 0,
             "ticks": ""
            },
            "type": "contourcarpet"
           }
          ],
          "heatmap": [
           {
            "colorbar": {
             "outlinewidth": 0,
             "ticks": ""
            },
            "colorscale": [
             [
              0,
              "#0d0887"
             ],
             [
              0.1111111111111111,
              "#46039f"
             ],
             [
              0.2222222222222222,
              "#7201a8"
             ],
             [
              0.3333333333333333,
              "#9c179e"
             ],
             [
              0.4444444444444444,
              "#bd3786"
             ],
             [
              0.5555555555555556,
              "#d8576b"
             ],
             [
              0.6666666666666666,
              "#ed7953"
             ],
             [
              0.7777777777777778,
              "#fb9f3a"
             ],
             [
              0.8888888888888888,
              "#fdca26"
             ],
             [
              1,
              "#f0f921"
             ]
            ],
            "type": "heatmap"
           }
          ],
          "heatmapgl": [
           {
            "colorbar": {
             "outlinewidth": 0,
             "ticks": ""
            },
            "colorscale": [
             [
              0,
              "#0d0887"
             ],
             [
              0.1111111111111111,
              "#46039f"
             ],
             [
              0.2222222222222222,
              "#7201a8"
             ],
             [
              0.3333333333333333,
              "#9c179e"
             ],
             [
              0.4444444444444444,
              "#bd3786"
             ],
             [
              0.5555555555555556,
              "#d8576b"
             ],
             [
              0.6666666666666666,
              "#ed7953"
             ],
             [
              0.7777777777777778,
              "#fb9f3a"
             ],
             [
              0.8888888888888888,
              "#fdca26"
             ],
             [
              1,
              "#f0f921"
             ]
            ],
            "type": "heatmapgl"
           }
          ],
          "histogram": [
           {
            "marker": {
             "pattern": {
              "fillmode": "overlay",
              "size": 10,
              "solidity": 0.2
             }
            },
            "type": "histogram"
           }
          ],
          "histogram2d": [
           {
            "colorbar": {
             "outlinewidth": 0,
             "ticks": ""
            },
            "colorscale": [
             [
              0,
              "#0d0887"
             ],
             [
              0.1111111111111111,
              "#46039f"
             ],
             [
              0.2222222222222222,
              "#7201a8"
             ],
             [
              0.3333333333333333,
              "#9c179e"
             ],
             [
              0.4444444444444444,
              "#bd3786"
             ],
             [
              0.5555555555555556,
              "#d8576b"
             ],
             [
              0.6666666666666666,
              "#ed7953"
             ],
             [
              0.7777777777777778,
              "#fb9f3a"
             ],
             [
              0.8888888888888888,
              "#fdca26"
             ],
             [
              1,
              "#f0f921"
             ]
            ],
            "type": "histogram2d"
           }
          ],
          "histogram2dcontour": [
           {
            "colorbar": {
             "outlinewidth": 0,
             "ticks": ""
            },
            "colorscale": [
             [
              0,
              "#0d0887"
             ],
             [
              0.1111111111111111,
              "#46039f"
             ],
             [
              0.2222222222222222,
              "#7201a8"
             ],
             [
              0.3333333333333333,
              "#9c179e"
             ],
             [
              0.4444444444444444,
              "#bd3786"
             ],
             [
              0.5555555555555556,
              "#d8576b"
             ],
             [
              0.6666666666666666,
              "#ed7953"
             ],
             [
              0.7777777777777778,
              "#fb9f3a"
             ],
             [
              0.8888888888888888,
              "#fdca26"
             ],
             [
              1,
              "#f0f921"
             ]
            ],
            "type": "histogram2dcontour"
           }
          ],
          "mesh3d": [
           {
            "colorbar": {
             "outlinewidth": 0,
             "ticks": ""
            },
            "type": "mesh3d"
           }
          ],
          "parcoords": [
           {
            "line": {
             "colorbar": {
              "outlinewidth": 0,
              "ticks": ""
             }
            },
            "type": "parcoords"
           }
          ],
          "pie": [
           {
            "automargin": true,
            "type": "pie"
           }
          ],
          "scatter": [
           {
            "fillpattern": {
             "fillmode": "overlay",
             "size": 10,
             "solidity": 0.2
            },
            "type": "scatter"
           }
          ],
          "scatter3d": [
           {
            "line": {
             "colorbar": {
              "outlinewidth": 0,
              "ticks": ""
             }
            },
            "marker": {
             "colorbar": {
              "outlinewidth": 0,
              "ticks": ""
             }
            },
            "type": "scatter3d"
           }
          ],
          "scattercarpet": [
           {
            "marker": {
             "colorbar": {
              "outlinewidth": 0,
              "ticks": ""
             }
            },
            "type": "scattercarpet"
           }
          ],
          "scattergeo": [
           {
            "marker": {
             "colorbar": {
              "outlinewidth": 0,
              "ticks": ""
             }
            },
            "type": "scattergeo"
           }
          ],
          "scattergl": [
           {
            "marker": {
             "colorbar": {
              "outlinewidth": 0,
              "ticks": ""
             }
            },
            "type": "scattergl"
           }
          ],
          "scattermapbox": [
           {
            "marker": {
             "colorbar": {
              "outlinewidth": 0,
              "ticks": ""
             }
            },
            "type": "scattermapbox"
           }
          ],
          "scatterpolar": [
           {
            "marker": {
             "colorbar": {
              "outlinewidth": 0,
              "ticks": ""
             }
            },
            "type": "scatterpolar"
           }
          ],
          "scatterpolargl": [
           {
            "marker": {
             "colorbar": {
              "outlinewidth": 0,
              "ticks": ""
             }
            },
            "type": "scatterpolargl"
           }
          ],
          "scatterternary": [
           {
            "marker": {
             "colorbar": {
              "outlinewidth": 0,
              "ticks": ""
             }
            },
            "type": "scatterternary"
           }
          ],
          "surface": [
           {
            "colorbar": {
             "outlinewidth": 0,
             "ticks": ""
            },
            "colorscale": [
             [
              0,
              "#0d0887"
             ],
             [
              0.1111111111111111,
              "#46039f"
             ],
             [
              0.2222222222222222,
              "#7201a8"
             ],
             [
              0.3333333333333333,
              "#9c179e"
             ],
             [
              0.4444444444444444,
              "#bd3786"
             ],
             [
              0.5555555555555556,
              "#d8576b"
             ],
             [
              0.6666666666666666,
              "#ed7953"
             ],
             [
              0.7777777777777778,
              "#fb9f3a"
             ],
             [
              0.8888888888888888,
              "#fdca26"
             ],
             [
              1,
              "#f0f921"
             ]
            ],
            "type": "surface"
           }
          ],
          "table": [
           {
            "cells": {
             "fill": {
              "color": "#EBF0F8"
             },
             "line": {
              "color": "white"
             }
            },
            "header": {
             "fill": {
              "color": "#C8D4E3"
             },
             "line": {
              "color": "white"
             }
            },
            "type": "table"
           }
          ]
         },
         "layout": {
          "annotationdefaults": {
           "arrowcolor": "#2a3f5f",
           "arrowhead": 0,
           "arrowwidth": 1
          },
          "autotypenumbers": "strict",
          "coloraxis": {
           "colorbar": {
            "outlinewidth": 0,
            "ticks": ""
           }
          },
          "colorscale": {
           "diverging": [
            [
             0,
             "#8e0152"
            ],
            [
             0.1,
             "#c51b7d"
            ],
            [
             0.2,
             "#de77ae"
            ],
            [
             0.3,
             "#f1b6da"
            ],
            [
             0.4,
             "#fde0ef"
            ],
            [
             0.5,
             "#f7f7f7"
            ],
            [
             0.6,
             "#e6f5d0"
            ],
            [
             0.7,
             "#b8e186"
            ],
            [
             0.8,
             "#7fbc41"
            ],
            [
             0.9,
             "#4d9221"
            ],
            [
             1,
             "#276419"
            ]
           ],
           "sequential": [
            [
             0,
             "#0d0887"
            ],
            [
             0.1111111111111111,
             "#46039f"
            ],
            [
             0.2222222222222222,
             "#7201a8"
            ],
            [
             0.3333333333333333,
             "#9c179e"
            ],
            [
             0.4444444444444444,
             "#bd3786"
            ],
            [
             0.5555555555555556,
             "#d8576b"
            ],
            [
             0.6666666666666666,
             "#ed7953"
            ],
            [
             0.7777777777777778,
             "#fb9f3a"
            ],
            [
             0.8888888888888888,
             "#fdca26"
            ],
            [
             1,
             "#f0f921"
            ]
           ],
           "sequentialminus": [
            [
             0,
             "#0d0887"
            ],
            [
             0.1111111111111111,
             "#46039f"
            ],
            [
             0.2222222222222222,
             "#7201a8"
            ],
            [
             0.3333333333333333,
             "#9c179e"
            ],
            [
             0.4444444444444444,
             "#bd3786"
            ],
            [
             0.5555555555555556,
             "#d8576b"
            ],
            [
             0.6666666666666666,
             "#ed7953"
            ],
            [
             0.7777777777777778,
             "#fb9f3a"
            ],
            [
             0.8888888888888888,
             "#fdca26"
            ],
            [
             1,
             "#f0f921"
            ]
           ]
          },
          "colorway": [
           "#636efa",
           "#EF553B",
           "#00cc96",
           "#ab63fa",
           "#FFA15A",
           "#19d3f3",
           "#FF6692",
           "#B6E880",
           "#FF97FF",
           "#FECB52"
          ],
          "font": {
           "color": "#2a3f5f"
          },
          "geo": {
           "bgcolor": "white",
           "lakecolor": "white",
           "landcolor": "#E5ECF6",
           "showlakes": true,
           "showland": true,
           "subunitcolor": "white"
          },
          "hoverlabel": {
           "align": "left"
          },
          "hovermode": "closest",
          "mapbox": {
           "style": "light"
          },
          "paper_bgcolor": "white",
          "plot_bgcolor": "#E5ECF6",
          "polar": {
           "angularaxis": {
            "gridcolor": "white",
            "linecolor": "white",
            "ticks": ""
           },
           "bgcolor": "#E5ECF6",
           "radialaxis": {
            "gridcolor": "white",
            "linecolor": "white",
            "ticks": ""
           }
          },
          "scene": {
           "xaxis": {
            "backgroundcolor": "#E5ECF6",
            "gridcolor": "white",
            "gridwidth": 2,
            "linecolor": "white",
            "showbackground": true,
            "ticks": "",
            "zerolinecolor": "white"
           },
           "yaxis": {
            "backgroundcolor": "#E5ECF6",
            "gridcolor": "white",
            "gridwidth": 2,
            "linecolor": "white",
            "showbackground": true,
            "ticks": "",
            "zerolinecolor": "white"
           },
           "zaxis": {
            "backgroundcolor": "#E5ECF6",
            "gridcolor": "white",
            "gridwidth": 2,
            "linecolor": "white",
            "showbackground": true,
            "ticks": "",
            "zerolinecolor": "white"
           }
          },
          "shapedefaults": {
           "line": {
            "color": "#2a3f5f"
           }
          },
          "ternary": {
           "aaxis": {
            "gridcolor": "white",
            "linecolor": "white",
            "ticks": ""
           },
           "baxis": {
            "gridcolor": "white",
            "linecolor": "white",
            "ticks": ""
           },
           "bgcolor": "#E5ECF6",
           "caxis": {
            "gridcolor": "white",
            "linecolor": "white",
            "ticks": ""
           }
          },
          "title": {
           "x": 0.05
          },
          "xaxis": {
           "automargin": true,
           "gridcolor": "white",
           "linecolor": "white",
           "ticks": "",
           "title": {
            "standoff": 15
           },
           "zerolinecolor": "white",
           "zerolinewidth": 2
          },
          "yaxis": {
           "automargin": true,
           "gridcolor": "white",
           "linecolor": "white",
           "ticks": "",
           "title": {
            "standoff": 15
           },
           "zerolinecolor": "white",
           "zerolinewidth": 2
          }
         }
        },
        "title": {
         "text": "polytope",
         "x": 0.5
        },
        "width": 600
       }
      }
     },
     "metadata": {},
     "output_type": "display_data"
    }
   ],
   "source": [
    "import plotly.graph_objects as go\n",
    "from scipy.spatial import ConvexHull\n",
    "\n",
    "#V = np.array([[1, 0, -2], [-2, -3, 2], [-1, -2, 1], [1, 2, -1], [1, 2, 0]])\n",
    "#V = np.array([[-1, -2, 2], [1, 2, -2], [-3, -2, 0], [1, 2, -3], [0, -1, 2]])\n",
    "V = np.array([[-1,-1,-1], [1,-1,-1], [1,1,-1], [-1,1,-1], [-1,1,1], [1,1,1], [1,-1,1], [-1,-1,1]])\n",
    "\n",
    "hull = ConvexHull(V)\n",
    "hull_points = hull.points\n",
    "hull_simplices = hull.simplices\n",
    "\n",
    "x = hull_points[:, 0]\n",
    "y = hull_points[:, 1]\n",
    "z = hull_points[:, 2]\n",
    "\n",
    "i = hull_simplices[:, 0]\n",
    "j = hull_simplices[:, 1]\n",
    "k = hull_simplices[:, 2]\n",
    "\n",
    "mesh3d  = go.Mesh3d(x=x, y=y, z=z, i=i, j=j, k=k, opacity=1.0, flatshading=True, color=\"#ce6a6b\")\n",
    "layout = go.Layout(width=600, height=600, title_text='polytope', title_x=0.5)\n",
    "fig = go.Figure(data=[mesh3d], layout=layout)\n",
    "fig.layout.scene.update(xaxis_showticklabels=False, xaxis_ticks='', xaxis_title='',\n",
    "                        yaxis_showticklabels=False, yaxis_ticks='',yaxis_title='',\n",
    "                        zaxis_showticklabels=False, zaxis_ticks='', zaxis_title='')\n",
    "fig.data[0].update(lighting=dict(ambient=0.5, diffuse=1, fresnel=4, specular=0.5, roughness=0.5))\n",
    "\n",
    "fig.show()"
   ]
  },
  {
   "cell_type": "code",
   "execution_count": 13,
   "metadata": {},
   "outputs": [
    {
     "name": "stdout",
     "output_type": "stream",
     "text": [
      "[[1, 0, -2], [-2, -3, 2], [-1, -2, 1], [1, 2, -1], [1, 2, 0]]\n",
      "[[-2, -3, 2], [-1, -2, 1], [1, 0, -2], [1, 2, -1], [1, 2, 0]]\n",
      "[[ 1  0 -2]\n",
      " [-2 -3  2]\n",
      " [-1 -2  1]\n",
      " [ 1  2 -1]\n",
      " [ 1  2  0]]\n",
      "array([[ 1,  0, -2],\n",
      "       [-2, -3,  2],\n",
      "       [-1, -2,  1],\n",
      "       [ 1,  2, -1],\n",
      "       [ 1,  2,  0]])\n",
      "[array([-2, -3,  2]), array([-1, -2,  1]), array([ 1,  0, -2]), array([ 1,  2, -1]), array([1, 2, 0])]\n",
      "----------------\n",
      "[array([-2, -3,  2]), array([-1, -2,  1]), array([ 1,  0, -2]), array([ 1,  2, -1]), array([1, 2, 0])]\n",
      "[[ 1, 0,-2],\n",
      " [-2,-3, 2],\n",
      " [-1,-2, 1],\n",
      " [ 1, 2,-1],\n",
      " [ 1, 2, 0]]\n"
     ]
    }
   ],
   "source": [
    "lis = [[1, 0, -2], [-2, -3, 2], [-1, -2, 1], [1, 2, -1], [1, 2, 0]]\n",
    "print(lis)\n",
    "lis.sort(key=lambda x: int(x[0]))\n",
    "print(lis)\n",
    "\n",
    "#print(sorted(lis, key=lambda x: x[0]))\n",
    "\n",
    "a = np.array([[1, 0, -2], [-2, -3, 2], [-1, -2, 1], [1, 2, -1], [1, 2, 0]])\n",
    "b = np.array([[1, 0, -2], [-2, -3, 2], [-1, -2, 1], [1, 2, -1], [1, 2, 0]])\n",
    "\n",
    "a.tolist()\n",
    "#a.sort(key=lambda x: int(x[0]))\n",
    "print(a)\n",
    "#b.flatten().tolist()\n",
    "\n",
    "print(repr(a))\n",
    "\n",
    "\n",
    "#print(b)\n",
    "#print(np.sort(a))\n",
    "\n",
    "print(sorted(a, key=lambda x: x[0]))\n",
    "print(\"----------------\")\n",
    "\n",
    "c = sorted(a, key=lambda x: x[0])\n",
    "print(c)\n",
    "c = np.array2string(a, separator=',')\n",
    "#print(type(c))\n",
    "\n",
    "print(c)\n",
    "\n",
    "\n",
    "# abcde = {}\n",
    "# abcde[c] = a\n",
    "# print(abcde)\n",
    "\n",
    "# if (a==b).all():\n",
    "#     print(True)"
   ]
  },
  {
   "cell_type": "code",
   "execution_count": 14,
   "metadata": {},
   "outputs": [
    {
     "data": {
      "text/plain": [
       "'[[ 1  0 -2], [-2 -3  2], [-1 -2  1], [ 1  2 -1], [ 1  2  0]]'"
      ]
     },
     "execution_count": 14,
     "metadata": {},
     "output_type": "execute_result"
    }
   ],
   "source": [
    "np.array2string(b).replace(\"\\n\", \",\")"
   ]
  },
  {
   "cell_type": "code",
   "execution_count": 15,
   "metadata": {},
   "outputs": [
    {
     "data": {
      "text/plain": [
       "[[-2, 3, 1, -3, 0],\n",
       " [1, -2, -1, 2, 0],\n",
       " [4, -4, 1, 2, -2],\n",
       " [1, 2, 3, 0, -1],\n",
       " [-3, 3, -1, -2, 2],\n",
       " [1, 2, 3, -3, -1],\n",
       " [-2, -1, -3, 0, 2]]"
      ]
     },
     "execution_count": 15,
     "metadata": {},
     "output_type": "execute_result"
    }
   ],
   "source": [
    "[[-2, 3, 1, -3, 0], [1,-2,-1, 2, 0], [ 4,-4, 1, 2,-2], [ 1,2,3,0,-1], [-3,3,-1,-2,2], [ 1,2,3,-3,-1], [-2,-1,-3,0,2]]"
   ]
  },
  {
   "cell_type": "code",
   "execution_count": 1,
   "metadata": {},
   "outputs": [
    {
     "name": "stdout",
     "output_type": "stream",
     "text": [
      "in pool\n"
     ]
    }
   ],
   "source": [
    "from multiprocessing import Pool\n",
    "import subprocess\n",
    "import sys\n",
    "import csv\n",
    "import timeit\n",
    "\n",
    "\n",
    "def task_runner(input):\n",
    "    print(input)\n",
    "    return input\n",
    "\n",
    "\n",
    "parents_pool = list([\"eins\", \"zwei\", \"drei\"])\n",
    "num_processes = 6\n",
    "#print(parents_pool)\n",
    "with Pool(num_processes) as p:\n",
    "    print(\"in pool\")\n",
    "    result = p.map(task_runner, parents_pool)"
   ]
  }
 ],
 "metadata": {
  "kernelspec": {
   "display_name": "base",
   "language": "python",
   "name": "python3"
  },
  "language_info": {
   "codemirror_mode": {
    "name": "ipython",
    "version": 3
   },
   "file_extension": ".py",
   "mimetype": "text/x-python",
   "name": "python",
   "nbconvert_exporter": "python",
   "pygments_lexer": "ipython3",
   "version": "3.11.5"
  },
  "orig_nbformat": 4
 },
 "nbformat": 4,
 "nbformat_minor": 2
}
