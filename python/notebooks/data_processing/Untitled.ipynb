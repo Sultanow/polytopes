{
 "cells": [
  {
   "cell_type": "code",
   "execution_count": 3,
   "id": "d12e0dc7-680a-41bc-8368-90bddeafdf4c",
   "metadata": {},
   "outputs": [],
   "source": [
    "import pandas as pd\n",
    "import gc\n",
    "# Load the Parquet file\n",
    "\n",
    "\n",
    "df = pd.read_parquet('/run/media/eva/01DA95886B3817A0/Mathfiles/reflexive/reflexive/ws-5d-reflexive-0000.parquet')\n",
    "df.sort_values(by='vertex_count',inplace = True )\n",
    "df.to_csv('sorted_dataframe.csv', index=False, header = False)\n"
   ]
  },
  {
   "cell_type": "code",
   "execution_count": null,
   "id": "55ab40df-1cc8-460e-af51-c1ee3bad5d82",
   "metadata": {},
   "outputs": [],
   "source": []
  },
  {
   "cell_type": "code",
   "execution_count": 4,
   "id": "2f3172ee-38f6-4b33-ae73-c47e22749181",
   "metadata": {},
   "outputs": [
    {
     "data": {
      "text/plain": [
       "0"
      ]
     },
     "execution_count": 4,
     "metadata": {},
     "output_type": "execute_result"
    }
   ],
   "source": [
    "del df\n",
    "gc.collect()\n"
   ]
  },
  {
   "cell_type": "code",
   "execution_count": 6,
   "id": "d2b1fe48-3071-48b3-b20b-a3e1d6c13e5b",
   "metadata": {},
   "outputs": [],
   "source": [
    "!split -n 80 -d --additional-suffix=.csv sorted_dataframe.csv file\n"
   ]
  },
  {
   "cell_type": "code",
   "execution_count": null,
   "id": "0f2e16bb-769d-4e54-a7f6-ebed18a0042c",
   "metadata": {},
   "outputs": [],
   "source": []
  }
 ],
 "metadata": {
  "kernelspec": {
   "display_name": "Python 3 (ipykernel)",
   "language": "python",
   "name": "python3"
  },
  "language_info": {
   "codemirror_mode": {
    "name": "ipython",
    "version": 3
   },
   "file_extension": ".py",
   "mimetype": "text/x-python",
   "name": "python",
   "nbconvert_exporter": "python",
   "pygments_lexer": "ipython3",
   "version": "3.9.18"
  }
 },
 "nbformat": 4,
 "nbformat_minor": 5
}
