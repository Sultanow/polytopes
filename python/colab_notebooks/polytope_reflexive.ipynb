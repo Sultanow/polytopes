{
  "cells": [
    {
      "cell_type": "markdown",
      "metadata": {
        "id": "IlOLAoGW2C6l"
      },
      "source": [
        "Check whether polytopes are reflexive"
      ]
    },
    {
      "cell_type": "code",
      "execution_count": 1,
      "metadata": {
        "colab": {
          "base_uri": "https://localhost:8080/"
        },
        "id": "tchVs5lr95Pt",
        "outputId": "5cf90486-0254-4091-91f3-3045447de1f1"
      },
      "outputs": [
        {
          "name": "stdout",
          "output_type": "stream",
          "text": [
            "Reading package lists... Done\n",
            "Building dependency tree... Done\n",
            "Reading state information... Done\n",
            "The following additional packages will be installed:\n",
            "  libgmp-dev libgmpxx4ldbl libppl-c4 libppl14\n",
            "Suggested packages:\n",
            "  gmp-doc libgmp10-doc libmpfr-dev libppl-doc\n",
            "The following NEW packages will be installed:\n",
            "  libgmp-dev libgmpxx4ldbl libppl-c4 libppl-dev libppl14\n",
            "0 upgraded, 5 newly installed, 0 to remove and 49 not upgraded.\n",
            "Need to get 3,874 kB of archives.\n",
            "After this operation, 29.7 MB of additional disk space will be used.\n",
            "Get:1 http://archive.ubuntu.com/ubuntu jammy/main amd64 libgmpxx4ldbl amd64 2:6.2.1+dfsg-3ubuntu1 [9,580 B]\n",
            "Get:2 http://archive.ubuntu.com/ubuntu jammy/main amd64 libgmp-dev amd64 2:6.2.1+dfsg-3ubuntu1 [337 kB]\n",
            "Get:3 http://archive.ubuntu.com/ubuntu jammy/universe amd64 libppl14 amd64 1:1.2-8.1build1 [434 kB]\n",
            "Get:4 http://archive.ubuntu.com/ubuntu jammy/universe amd64 libppl-c4 amd64 1:1.2-8.1build1 [1,084 kB]\n",
            "Get:5 http://archive.ubuntu.com/ubuntu jammy/universe amd64 libppl-dev amd64 1:1.2-8.1build1 [2,009 kB]\n",
            "Fetched 3,874 kB in 1s (3,638 kB/s)\n",
            "Selecting previously unselected package libgmpxx4ldbl:amd64.\n",
            "(Reading database ... 123623 files and directories currently installed.)\n",
            "Preparing to unpack .../libgmpxx4ldbl_2%3a6.2.1+dfsg-3ubuntu1_amd64.deb ...\n",
            "Unpacking libgmpxx4ldbl:amd64 (2:6.2.1+dfsg-3ubuntu1) ...\n",
            "Selecting previously unselected package libgmp-dev:amd64.\n",
            "Preparing to unpack .../libgmp-dev_2%3a6.2.1+dfsg-3ubuntu1_amd64.deb ...\n",
            "Unpacking libgmp-dev:amd64 (2:6.2.1+dfsg-3ubuntu1) ...\n",
            "Selecting previously unselected package libppl14:amd64.\n",
            "Preparing to unpack .../libppl14_1%3a1.2-8.1build1_amd64.deb ...\n",
            "Unpacking libppl14:amd64 (1:1.2-8.1build1) ...\n",
            "Selecting previously unselected package libppl-c4:amd64.\n",
            "Preparing to unpack .../libppl-c4_1%3a1.2-8.1build1_amd64.deb ...\n",
            "Unpacking libppl-c4:amd64 (1:1.2-8.1build1) ...\n",
            "Selecting previously unselected package libppl-dev:amd64.\n",
            "Preparing to unpack .../libppl-dev_1%3a1.2-8.1build1_amd64.deb ...\n",
            "Unpacking libppl-dev:amd64 (1:1.2-8.1build1) ...\n",
            "Setting up libgmpxx4ldbl:amd64 (2:6.2.1+dfsg-3ubuntu1) ...\n",
            "Setting up libppl14:amd64 (1:1.2-8.1build1) ...\n",
            "Setting up libgmp-dev:amd64 (2:6.2.1+dfsg-3ubuntu1) ...\n",
            "Setting up libppl-c4:amd64 (1:1.2-8.1build1) ...\n",
            "Setting up libppl-dev:amd64 (1:1.2-8.1build1) ...\n",
            "Processing triggers for man-db (2.10.2-1) ...\n",
            "Processing triggers for libc-bin (2.35-0ubuntu3.4) ...\n",
            "/sbin/ldconfig.real: /usr/local/lib/libtbbbind_2_0.so.3 is not a symbolic link\n",
            "\n",
            "/sbin/ldconfig.real: /usr/local/lib/libur_adapter_level_zero.so.0 is not a symbolic link\n",
            "\n",
            "/sbin/ldconfig.real: /usr/local/lib/libur_loader.so.0 is not a symbolic link\n",
            "\n",
            "/sbin/ldconfig.real: /usr/local/lib/libtbbbind_2_5.so.3 is not a symbolic link\n",
            "\n",
            "/sbin/ldconfig.real: /usr/local/lib/libur_adapter_opencl.so.0 is not a symbolic link\n",
            "\n",
            "/sbin/ldconfig.real: /usr/local/lib/libtbb.so.12 is not a symbolic link\n",
            "\n",
            "/sbin/ldconfig.real: /usr/local/lib/libhwloc.so.15 is not a symbolic link\n",
            "\n",
            "/sbin/ldconfig.real: /usr/local/lib/libtcm.so.1 is not a symbolic link\n",
            "\n",
            "/sbin/ldconfig.real: /usr/local/lib/libtbbmalloc_proxy.so.2 is not a symbolic link\n",
            "\n",
            "/sbin/ldconfig.real: /usr/local/lib/libtbbbind.so.3 is not a symbolic link\n",
            "\n",
            "/sbin/ldconfig.real: /usr/local/lib/libumf.so.0 is not a symbolic link\n",
            "\n",
            "/sbin/ldconfig.real: /usr/local/lib/libtbbmalloc.so.2 is not a symbolic link\n",
            "\n",
            "/sbin/ldconfig.real: /usr/local/lib/libtcm_debug.so.1 is not a symbolic link\n",
            "\n",
            "Reading package lists... Done\n",
            "Building dependency tree... Done\n",
            "Reading state information... Done\n",
            "Suggested packages:\n",
            "  libmpfr-doc\n",
            "The following NEW packages will be installed:\n",
            "  libmpfr-dev\n",
            "0 upgraded, 1 newly installed, 0 to remove and 49 not upgraded.\n",
            "Need to get 271 kB of archives.\n",
            "After this operation, 1,271 kB of additional disk space will be used.\n",
            "Get:1 http://archive.ubuntu.com/ubuntu jammy/main amd64 libmpfr-dev amd64 4.1.0-3build3 [271 kB]\n",
            "Fetched 271 kB in 1s (420 kB/s)\n",
            "Selecting previously unselected package libmpfr-dev:amd64.\n",
            "(Reading database ... 123675 files and directories currently installed.)\n",
            "Preparing to unpack .../libmpfr-dev_4.1.0-3build3_amd64.deb ...\n",
            "Unpacking libmpfr-dev:amd64 (4.1.0-3build3) ...\n",
            "Setting up libmpfr-dev:amd64 (4.1.0-3build3) ...\n",
            "Reading package lists... Done\n",
            "Building dependency tree... Done\n",
            "Reading state information... Done\n",
            "The following NEW packages will be installed:\n",
            "  libmpc-dev\n",
            "0 upgraded, 1 newly installed, 0 to remove and 49 not upgraded.\n",
            "Need to get 60.1 kB of archives.\n",
            "After this operation, 300 kB of additional disk space will be used.\n",
            "Get:1 http://archive.ubuntu.com/ubuntu jammy/main amd64 libmpc-dev amd64 1.2.1-2build1 [60.1 kB]\n",
            "Fetched 60.1 kB in 0s (140 kB/s)\n",
            "Selecting previously unselected package libmpc-dev:amd64.\n",
            "(Reading database ... 123689 files and directories currently installed.)\n",
            "Preparing to unpack .../libmpc-dev_1.2.1-2build1_amd64.deb ...\n",
            "Unpacking libmpc-dev:amd64 (1.2.1-2build1) ...\n",
            "Setting up libmpc-dev:amd64 (1.2.1-2build1) ...\n",
            "Reading package lists... Done\n",
            "Building dependency tree... Done\n",
            "Reading state information... Done\n",
            "The following additional packages will be installed:\n",
            "  libflint-2.8.4 libgf2x3 libntl44\n",
            "The following NEW packages will be installed:\n",
            "  libflint-2.8.4 libflint-dev libgf2x3 libntl44\n",
            "0 upgraded, 4 newly installed, 0 to remove and 49 not upgraded.\n",
            "Need to get 5,969 kB of archives.\n",
            "After this operation, 27.6 MB of additional disk space will be used.\n",
            "Get:1 http://archive.ubuntu.com/ubuntu jammy/universe amd64 libgf2x3 amd64 1.3.0-2 [27.9 kB]\n",
            "Get:2 http://archive.ubuntu.com/ubuntu jammy/universe amd64 libntl44 amd64 11.5.1-1 [838 kB]\n",
            "Get:3 http://archive.ubuntu.com/ubuntu jammy/universe amd64 libflint-2.8.4 amd64 2.8.4-2build1 [2,299 kB]\n",
            "Get:4 http://archive.ubuntu.com/ubuntu jammy/universe amd64 libflint-dev amd64 2.8.4-2build1 [2,804 kB]\n",
            "Fetched 5,969 kB in 0s (14.5 MB/s)\n",
            "Selecting previously unselected package libgf2x3:amd64.\n",
            "(Reading database ... 123699 files and directories currently installed.)\n",
            "Preparing to unpack .../libgf2x3_1.3.0-2_amd64.deb ...\n",
            "Unpacking libgf2x3:amd64 (1.3.0-2) ...\n",
            "Selecting previously unselected package libntl44:amd64.\n",
            "Preparing to unpack .../libntl44_11.5.1-1_amd64.deb ...\n",
            "Unpacking libntl44:amd64 (11.5.1-1) ...\n",
            "Selecting previously unselected package libflint-2.8.4:amd64.\n",
            "Preparing to unpack .../libflint-2.8.4_2.8.4-2build1_amd64.deb ...\n",
            "Unpacking libflint-2.8.4:amd64 (2.8.4-2build1) ...\n",
            "Selecting previously unselected package libflint-dev.\n",
            "Preparing to unpack .../libflint-dev_2.8.4-2build1_amd64.deb ...\n",
            "Unpacking libflint-dev (2.8.4-2build1) ...\n",
            "Setting up libgf2x3:amd64 (1.3.0-2) ...\n",
            "Setting up libntl44:amd64 (11.5.1-1) ...\n",
            "Setting up libflint-2.8.4:amd64 (2.8.4-2build1) ...\n",
            "Setting up libflint-dev (2.8.4-2build1) ...\n",
            "Processing triggers for libc-bin (2.35-0ubuntu3.4) ...\n",
            "/sbin/ldconfig.real: /usr/local/lib/libtbbbind_2_0.so.3 is not a symbolic link\n",
            "\n",
            "/sbin/ldconfig.real: /usr/local/lib/libur_adapter_level_zero.so.0 is not a symbolic link\n",
            "\n",
            "/sbin/ldconfig.real: /usr/local/lib/libur_loader.so.0 is not a symbolic link\n",
            "\n",
            "/sbin/ldconfig.real: /usr/local/lib/libtbbbind_2_5.so.3 is not a symbolic link\n",
            "\n",
            "/sbin/ldconfig.real: /usr/local/lib/libur_adapter_opencl.so.0 is not a symbolic link\n",
            "\n",
            "/sbin/ldconfig.real: /usr/local/lib/libtbb.so.12 is not a symbolic link\n",
            "\n",
            "/sbin/ldconfig.real: /usr/local/lib/libhwloc.so.15 is not a symbolic link\n",
            "\n",
            "/sbin/ldconfig.real: /usr/local/lib/libtcm.so.1 is not a symbolic link\n",
            "\n",
            "/sbin/ldconfig.real: /usr/local/lib/libtbbmalloc_proxy.so.2 is not a symbolic link\n",
            "\n",
            "/sbin/ldconfig.real: /usr/local/lib/libtbbbind.so.3 is not a symbolic link\n",
            "\n",
            "/sbin/ldconfig.real: /usr/local/lib/libumf.so.0 is not a symbolic link\n",
            "\n",
            "/sbin/ldconfig.real: /usr/local/lib/libtbbmalloc.so.2 is not a symbolic link\n",
            "\n",
            "/sbin/ldconfig.real: /usr/local/lib/libtcm_debug.so.1 is not a symbolic link\n",
            "\n",
            "Reading package lists... Done\n",
            "Building dependency tree... Done\n",
            "Reading state information... Done\n",
            "The following NEW packages will be installed:\n",
            "  palp\n",
            "0 upgraded, 1 newly installed, 0 to remove and 49 not upgraded.\n",
            "Need to get 749 kB of archives.\n",
            "After this operation, 3,183 kB of additional disk space will be used.\n",
            "Get:1 http://archive.ubuntu.com/ubuntu jammy/universe amd64 palp amd64 2.20-2 [749 kB]\n",
            "Fetched 749 kB in 0s (3,393 kB/s)\n",
            "Selecting previously unselected package palp.\n",
            "(Reading database ... 123861 files and directories currently installed.)\n",
            "Preparing to unpack .../archives/palp_2.20-2_amd64.deb ...\n",
            "Unpacking palp (2.20-2) ...\n",
            "Setting up palp (2.20-2) ...\n",
            "Processing triggers for man-db (2.10.2-1) ...\n",
            "Reading package lists... Done\n",
            "Building dependency tree... Done\n",
            "Reading state information... Done\n",
            "Suggested packages:\n",
            "  libmpfi-dev libntl-dev\n",
            "The following NEW packages will be installed:\n",
            "  libcgal-dev\n",
            "0 upgraded, 1 newly installed, 0 to remove and 49 not upgraded.\n",
            "Need to get 4,784 kB of archives.\n",
            "After this operation, 40.7 MB of additional disk space will be used.\n",
            "Get:1 http://archive.ubuntu.com/ubuntu jammy/universe amd64 libcgal-dev amd64 5.4-1 [4,784 kB]\n",
            "Fetched 4,784 kB in 0s (17.1 MB/s)\n",
            "Selecting previously unselected package libcgal-dev:amd64.\n",
            "(Reading database ... 123914 files and directories currently installed.)\n",
            "Preparing to unpack .../libcgal-dev_5.4-1_amd64.deb ...\n",
            "Unpacking libcgal-dev:amd64 (5.4-1) ...\n",
            "Setting up libcgal-dev:amd64 (5.4-1) ...\n",
            "Processing triggers for man-db (2.10.2-1) ...\n"
          ]
        }
      ],
      "source": [
        "#!sudo apt update && sudo apt full-upgrade\n",
        "#!sudo do-release-upgrade\n",
        "#!sudo apt install python3-pip\n",
        "\n",
        "!apt install libppl-dev\n",
        "!apt install libmpfr-dev\n",
        "!apt install libmpc-dev\n",
        "!apt install libflint-dev\n",
        "!apt install palp\n",
        "!apt install libcgal-dev"
      ]
    },
    {
      "cell_type": "code",
      "execution_count": 2,
      "metadata": {
        "colab": {
          "base_uri": "https://localhost:8080/"
        },
        "id": "Hox5Y1zqaHW2",
        "outputId": "50615e2b-65a1-4ecc-e719-2844316075d9"
      },
      "outputs": [
        {
          "name": "stdout",
          "output_type": "stream",
          "text": [
            "/bin/bash: line 1: cd: /usr/local/lib/python3.10/dist-packages/cytools: No such file or directory\n",
            "ls: cannot access '/usr/local/lib/python3.10/dist-packages/cytools': No such file or directory\n"
          ]
        }
      ],
      "source": [
        "!cd /usr/local/lib/python3.10/dist-packages/cytools\n",
        "!ls -la /usr/local/lib/python3.10/dist-packages/cytools"
      ]
    },
    {
      "cell_type": "code",
      "execution_count": 3,
      "metadata": {
        "colab": {
          "base_uri": "https://localhost:8080/"
        },
        "id": "HaxSGSGx9053",
        "outputId": "8c057aa5-4525-4149-c270-921361d9eb52"
      },
      "outputs": [
        {
          "name": "stdout",
          "output_type": "stream",
          "text": [
            "Python 3.10.12\n"
          ]
        }
      ],
      "source": [
        "!python3 --version"
      ]
    },
    {
      "cell_type": "code",
      "execution_count": 4,
      "metadata": {
        "colab": {
          "base_uri": "https://localhost:8080/"
        },
        "id": "K0fMn8zI3JJx",
        "outputId": "6303f354-33e5-4445-b298-e574004570e7"
      },
      "outputs": [
        {
          "name": "stdout",
          "output_type": "stream",
          "text": [
            "Collecting gmpy2\n",
            "  Downloading gmpy2-2.2.1-cp310-cp310-manylinux_2_17_x86_64.manylinux2014_x86_64.whl.metadata (2.8 kB)\n",
            "Requirement already satisfied: sympy in /usr/local/lib/python3.10/dist-packages (1.13.1)\n",
            "Requirement already satisfied: tqdm in /usr/local/lib/python3.10/dist-packages (4.66.6)\n",
            "Collecting python-flint\n",
            "  Downloading python_flint-0.6.0-cp310-cp310-manylinux_2_17_x86_64.manylinux2014_x86_64.whl.metadata (8.4 kB)\n",
            "Collecting ortools\n",
            "  Downloading ortools-9.11.4210-cp310-cp310-manylinux_2_17_x86_64.manylinux2014_x86_64.whl.metadata (3.0 kB)\n",
            "Requirement already satisfied: pandas in /usr/local/lib/python3.10/dist-packages (2.2.2)\n",
            "Collecting qpsolvers\n",
            "  Downloading qpsolvers-4.4.0-py3-none-any.whl.metadata (17 kB)\n",
            "Requirement already satisfied: mpmath<1.4,>=1.1.0 in /usr/local/lib/python3.10/dist-packages (from sympy) (1.3.0)\n",
            "Collecting absl-py>=2.0.0 (from ortools)\n",
            "  Downloading absl_py-2.1.0-py3-none-any.whl.metadata (2.3 kB)\n",
            "Requirement already satisfied: numpy>=1.13.3 in /usr/local/lib/python3.10/dist-packages (from ortools) (1.26.4)\n",
            "Collecting protobuf<5.27,>=5.26.1 (from ortools)\n",
            "  Downloading protobuf-5.26.1-cp37-abi3-manylinux2014_x86_64.whl.metadata (592 bytes)\n",
            "Requirement already satisfied: immutabledict>=3.0.0 in /usr/local/lib/python3.10/dist-packages (from ortools) (4.2.0)\n",
            "Requirement already satisfied: python-dateutil>=2.8.2 in /usr/local/lib/python3.10/dist-packages (from pandas) (2.8.2)\n",
            "Requirement already satisfied: pytz>=2020.1 in /usr/local/lib/python3.10/dist-packages (from pandas) (2024.2)\n",
            "Requirement already satisfied: tzdata>=2022.7 in /usr/local/lib/python3.10/dist-packages (from pandas) (2024.2)\n",
            "Requirement already satisfied: scipy>=1.2.0 in /usr/local/lib/python3.10/dist-packages (from qpsolvers) (1.13.1)\n",
            "Requirement already satisfied: six>=1.5 in /usr/local/lib/python3.10/dist-packages (from python-dateutil>=2.8.2->pandas) (1.16.0)\n",
            "Downloading gmpy2-2.2.1-cp310-cp310-manylinux_2_17_x86_64.manylinux2014_x86_64.whl (1.7 MB)\n",
            "\u001b[2K   \u001b[90m━━━━━━━━━━━━━━━━━━━━━━━━━━━━━━━━━━━━━━━━\u001b[0m \u001b[32m1.7/1.7 MB\u001b[0m \u001b[31m20.4 MB/s\u001b[0m eta \u001b[36m0:00:00\u001b[0m\n",
            "\u001b[?25hDownloading python_flint-0.6.0-cp310-cp310-manylinux_2_17_x86_64.manylinux2014_x86_64.whl (41.1 MB)\n",
            "\u001b[2K   \u001b[90m━━━━━━━━━━━━━━━━━━━━━━━━━━━━━━━━━━━━━━━━\u001b[0m \u001b[32m41.1/41.1 MB\u001b[0m \u001b[31m20.6 MB/s\u001b[0m eta \u001b[36m0:00:00\u001b[0m\n",
            "\u001b[?25hDownloading ortools-9.11.4210-cp310-cp310-manylinux_2_17_x86_64.manylinux2014_x86_64.whl (28.1 MB)\n",
            "\u001b[2K   \u001b[90m━━━━━━━━━━━━━━━━━━━━━━━━━━━━━━━━━━━━━━━━\u001b[0m \u001b[32m28.1/28.1 MB\u001b[0m \u001b[31m38.3 MB/s\u001b[0m eta \u001b[36m0:00:00\u001b[0m\n",
            "\u001b[?25hDownloading qpsolvers-4.4.0-py3-none-any.whl (82 kB)\n",
            "\u001b[2K   \u001b[90m━━━━━━━━━━━━━━━━━━━━━━━━━━━━━━━━━━━━━━━━\u001b[0m \u001b[32m82.2/82.2 kB\u001b[0m \u001b[31m5.0 MB/s\u001b[0m eta \u001b[36m0:00:00\u001b[0m\n",
            "\u001b[?25hDownloading absl_py-2.1.0-py3-none-any.whl (133 kB)\n",
            "\u001b[2K   \u001b[90m━━━━━━━━━━━━━━━━━━━━━━━━━━━━━━━━━━━━━━━━\u001b[0m \u001b[32m133.7/133.7 kB\u001b[0m \u001b[31m7.3 MB/s\u001b[0m eta \u001b[36m0:00:00\u001b[0m\n",
            "\u001b[?25hDownloading protobuf-5.26.1-cp37-abi3-manylinux2014_x86_64.whl (302 kB)\n",
            "\u001b[2K   \u001b[90m━━━━━━━━━━━━━━━━━━━━━━━━━━━━━━━━━━━━━━━━\u001b[0m \u001b[32m302.8/302.8 kB\u001b[0m \u001b[31m16.3 MB/s\u001b[0m eta \u001b[36m0:00:00\u001b[0m\n",
            "\u001b[?25hInstalling collected packages: python-flint, protobuf, gmpy2, absl-py, qpsolvers, ortools\n",
            "  Attempting uninstall: protobuf\n",
            "    Found existing installation: protobuf 3.20.3\n",
            "    Uninstalling protobuf-3.20.3:\n",
            "      Successfully uninstalled protobuf-3.20.3\n",
            "  Attempting uninstall: absl-py\n",
            "    Found existing installation: absl-py 1.4.0\n",
            "    Uninstalling absl-py-1.4.0:\n",
            "      Successfully uninstalled absl-py-1.4.0\n",
            "\u001b[31mERROR: pip's dependency resolver does not currently take into account all the packages that are installed. This behaviour is the source of the following dependency conflicts.\n",
            "google-cloud-datastore 2.19.0 requires protobuf!=3.20.0,!=3.20.1,!=4.21.0,!=4.21.1,!=4.21.2,!=4.21.3,!=4.21.4,!=4.21.5,<5.0.0dev,>=3.19.5, but you have protobuf 5.26.1 which is incompatible.\n",
            "google-cloud-firestore 2.16.1 requires protobuf!=3.20.0,!=3.20.1,!=4.21.0,!=4.21.1,!=4.21.2,!=4.21.3,!=4.21.4,!=4.21.5,<5.0.0dev,>=3.19.5, but you have protobuf 5.26.1 which is incompatible.\n",
            "tensorboard 2.17.0 requires protobuf!=4.24.0,<5.0.0,>=3.19.6, but you have protobuf 5.26.1 which is incompatible.\n",
            "tensorflow 2.17.0 requires protobuf!=4.21.0,!=4.21.1,!=4.21.2,!=4.21.3,!=4.21.4,!=4.21.5,<5.0.0dev,>=3.20.3, but you have protobuf 5.26.1 which is incompatible.\n",
            "tensorflow-metadata 1.16.1 requires protobuf<4.21,>=3.20.3; python_version < \"3.11\", but you have protobuf 5.26.1 which is incompatible.\u001b[0m\u001b[31m\n",
            "\u001b[0mSuccessfully installed absl-py-2.1.0 gmpy2-2.2.1 ortools-9.11.4210 protobuf-5.26.1 python-flint-0.6.0 qpsolvers-4.4.0\n",
            "Collecting cysignals\n",
            "  Downloading cysignals-1.11.4-cp310-cp310-manylinux_2_17_x86_64.manylinux2014_x86_64.whl.metadata (4.0 kB)\n",
            "Downloading cysignals-1.11.4-cp310-cp310-manylinux_2_17_x86_64.manylinux2014_x86_64.whl (1.1 MB)\n",
            "\u001b[2K   \u001b[90m━━━━━━━━━━━━━━━━━━━━━━━━━━━━━━━━━━━━━━━━\u001b[0m \u001b[32m1.1/1.1 MB\u001b[0m \u001b[31m11.8 MB/s\u001b[0m eta \u001b[36m0:00:00\u001b[0m\n",
            "\u001b[?25hInstalling collected packages: cysignals\n",
            "Successfully installed cysignals-1.11.4\n",
            "Collecting pplpy\n",
            "  Downloading pplpy-0.8.10-cp310-cp310-manylinux_2_17_x86_64.manylinux2014_x86_64.whl.metadata (4.6 kB)\n",
            "Requirement already satisfied: cysignals in /usr/local/lib/python3.10/dist-packages (from pplpy) (1.11.4)\n",
            "Requirement already satisfied: gmpy2>=2.1.0b1 in /usr/local/lib/python3.10/dist-packages (from pplpy) (2.2.1)\n",
            "Downloading pplpy-0.8.10-cp310-cp310-manylinux_2_17_x86_64.manylinux2014_x86_64.whl (12.8 MB)\n",
            "\u001b[2K   \u001b[90m━━━━━━━━━━━━━━━━━━━━━━━━━━━━━━━━━━━━━━━━\u001b[0m \u001b[32m12.8/12.8 MB\u001b[0m \u001b[31m58.5 MB/s\u001b[0m eta \u001b[36m0:00:00\u001b[0m\n",
            "\u001b[?25hInstalling collected packages: pplpy\n",
            "Successfully installed pplpy-0.8.10\n",
            "Requirement already satisfied: scipy in /usr/local/lib/python3.10/dist-packages (1.13.1)\n",
            "Requirement already satisfied: numpy<2.3,>=1.22.4 in /usr/local/lib/python3.10/dist-packages (from scipy) (1.26.4)\n",
            "Collecting Mosek\n",
            "  Downloading Mosek-10.2.6-cp37-abi3-manylinux2014_x86_64.whl.metadata (697 bytes)\n",
            "Requirement already satisfied: numpy in /usr/local/lib/python3.10/dist-packages (from Mosek) (1.26.4)\n",
            "Downloading Mosek-10.2.6-cp37-abi3-manylinux2014_x86_64.whl (15.1 MB)\n",
            "\u001b[2K   \u001b[90m━━━━━━━━━━━━━━━━━━━━━━━━━━━━━━━━━━━━━━━━\u001b[0m \u001b[32m15.1/15.1 MB\u001b[0m \u001b[31m77.9 MB/s\u001b[0m eta \u001b[36m0:00:00\u001b[0m\n",
            "\u001b[?25hInstalling collected packages: Mosek\n",
            "Successfully installed Mosek-10.2.6\n",
            "Collecting cytools\n",
            "  Downloading cytools-1.0.1-py3-none-any.whl.metadata (3.4 kB)\n",
            "Downloading cytools-1.0.1-py3-none-any.whl (118 kB)\n",
            "\u001b[2K   \u001b[90m━━━━━━━━━━━━━━━━━━━━━━━━━━━━━━━━━━━━━━━━\u001b[0m \u001b[32m118.8/118.8 kB\u001b[0m \u001b[31m2.3 MB/s\u001b[0m eta \u001b[36m0:00:00\u001b[0m\n",
            "\u001b[?25hInstalling collected packages: cytools\n",
            "Successfully installed cytools-1.0.1\n"
          ]
        }
      ],
      "source": [
        "!pip install gmpy2 sympy tqdm python-flint ortools pandas qpsolvers\n",
        "!pip install cysignals\n",
        "!pip install pplpy\n",
        "!pip install scipy\n",
        "!pip install Mosek\n",
        "!pip install cytools"
      ]
    },
    {
      "cell_type": "code",
      "execution_count": 5,
      "metadata": {
        "colab": {
          "base_uri": "https://localhost:8080/"
        },
        "id": "BxcIUAUx2NK3",
        "outputId": "d0793562-7532-42f9-9bc7-904cba933184"
      },
      "outputs": [
        {
          "name": "stderr",
          "output_type": "stream",
          "text": [
            "/usr/local/lib/python3.10/dist-packages/cytools/config.py:139: UserWarning: \n",
            "**************************************************************\n",
            "Warning: You have enabled experimental features of CYTools.\n",
            "Some of these features may be broken or not fully tested,\n",
            "and they may undergo significant changes in future versions.\n",
            "**************************************************************\n",
            "\n",
            "  warnings.warn(\"\\n**************************************************************\\n\"\n"
          ]
        }
      ],
      "source": [
        "from cytools import Polytope\n",
        "import cytools\n",
        "cytools.config.enable_experimental_features()"
      ]
    },
    {
      "cell_type": "code",
      "execution_count": null,
      "metadata": {},
      "outputs": [],
      "source": [
        "# check some fundamental features\n",
        "vertices = [[1,0,0,0],[0,1,0,0],[0,0,1,0],[0,0,0,1],[-1,-1,-6,-9]]\n",
        "p = Polytope(vertices)\n",
        "print(p.faces(d=2)[0].points())"
      ]
    },
    {
      "cell_type": "markdown",
      "metadata": {
        "id": "iYbA5Jwk8991"
      },
      "source": [
        "First check all 16 two dimensional polytopes"
      ]
    },
    {
      "cell_type": "code",
      "execution_count": 17,
      "metadata": {
        "colab": {
          "base_uri": "https://localhost:8080/"
        },
        "id": "aUQ-mR0g887K",
        "outputId": "383d84e3-7d4f-4f24-a704-e8d89f721889"
      },
      "outputs": [
        {
          "name": "stdout",
          "output_type": "stream",
          "text": [
            "True\n",
            "True\n",
            "True\n",
            "True\n",
            "True\n",
            "True\n",
            "True\n",
            "True\n",
            "True\n",
            "True\n",
            "True\n",
            "True\n",
            "True\n",
            "True\n",
            "True\n",
            "True\n"
          ]
        }
      ],
      "source": [
        "print(Polytope([[-1,2],[2,-1],[-1,-1]]).is_reflexive())\n",
        "print(Polytope([[0,1],[1,0],[-1,-1]]).is_reflexive())\n",
        "\n",
        "print(Polytope([[0,1],[2,-1],[-2,-1]]).is_reflexive())\n",
        "print(Polytope([[0,1],[1,-1],[-1,-1]]).is_reflexive())\n",
        "\n",
        "print(Polytope([[-1,1],[1,1],[1,-1],[-1,-1]]).is_reflexive())\n",
        "print(Polytope([[0,1],[1,0],[0,-1],[-1,0]]).is_reflexive())\n",
        "\n",
        "print(Polytope([[0,1],[1,0],[1,-1],[-1,-1],[-1,1]]).is_reflexive())\n",
        "print(Polytope([[0,1],[1,0],[0,-1],[-1,-1],[-1,0]]).is_reflexive())\n",
        "\n",
        "print(Polytope([[0,1],[2,-1],[-1,-1],[-1,1]]).is_reflexive())\n",
        "print(Polytope([[0,1],[1,0],[0,-1],[-1,-1]]).is_reflexive())\n",
        "\n",
        "print(Polytope([[0,1],[2,-1],[-1,-1],[-1,0]]).is_reflexive())\n",
        "print(Polytope([[0,1],[1,0],[1,-1],[-1,-1]]).is_reflexive())\n",
        "\n",
        "print(Polytope([[0,1],[2,-1],[-1,-1]]).is_reflexive())\n",
        "print(Polytope([[0,1],[1,-1],[-1,-1],[-1,1]]).is_reflexive())\n",
        "\n",
        "print(Polytope([[0,1],[1,0],[1,-1],[-1,-1],[-1,0]]).is_reflexive())\n",
        "print(Polytope([[0,1],[1,0],[1,-1],[0,-1],[-1,0],[1,1]]).is_reflexive())"
      ]
    },
    {
      "cell_type": "code",
      "execution_count": null,
      "metadata": {
        "colab": {
          "base_uri": "https://localhost:8080/"
        },
        "id": "zZqnpuJCLqi4",
        "outputId": "2e27bba4-42cf-4834-e9a2-a6304c99c4b5"
      },
      "outputs": [
        {
          "name": "stderr",
          "output_type": "stream",
          "text": [
            "/usr/local/lib/python3.10/dist-packages/cytools/config.py:139: UserWarning: \n",
            "**************************************************************\n",
            "Warning: You have enabled experimental features of CYTools.\n",
            "Some of these features may be broken or not fully tested,\n",
            "and they may undergo significant changes in future versions.\n",
            "**************************************************************\n",
            "\n",
            "  warnings.warn(\"\\n**************************************************************\\n\"\n"
          ]
        }
      ],
      "source": [
        "p = Polytope([[1,0,0,0,0],[0,1,0,0,0],[0,0,1,0,0],[0,0,0,1,0],[-1,-1,-6,-9,0],[0,0,0,0,1],[0,0,0,0,-1]])\n"
      ]
    },
    {
      "cell_type": "code",
      "execution_count": null,
      "metadata": {
        "colab": {
          "base_uri": "https://localhost:8080/"
        },
        "id": "CMgq3_vy_iUF",
        "outputId": "aadf170b-aa70-4249-c6ea-076f4f76e1cc"
      },
      "outputs": [
        {
          "name": "stdout",
          "output_type": "stream",
          "text": [
            "True\n"
          ]
        }
      ],
      "source": [
        "vertices = [[ -1,   0,   1,   1,   3],\n",
        "  [  3,   4,  -3,   9,  -5],\n",
        "  [ -1,  -8,   1, -15,   3],\n",
        "  [  0,   0,   1,   1,   0],\n",
        "  [ -1,   0,  -3,   1,  -1],\n",
        "  [ -1,   0,   1,  -7,   3]]\n",
        "p = Polytope(vertices)\n",
        "print(p.is_reflexive())"
      ]
    },
    {
      "cell_type": "markdown",
      "metadata": {
        "id": "6xNpIo4waZ6z"
      },
      "source": [
        "Take some 5D polytopes from [GitHub: elliheyes/Polytope-Generation](https://github.com/elliheyes/Polytope-Generation/tree/main/Data)"
      ]
    },
    {
      "cell_type": "code",
      "execution_count": null,
      "metadata": {
        "colab": {
          "base_uri": "https://localhost:8080/"
        },
        "id": "z43OpTb9Vupc",
        "outputId": "e03bf281-00cf-471c-841f-9334fca8cca9"
      },
      "outputs": [
        {
          "name": "stdout",
          "output_type": "stream",
          "text": [
            "True\n",
            "True\n"
          ]
        }
      ],
      "source": [
        "vertices = [[-2, 3, 1, -3, 0],\n",
        " [1, -2, -1, 2, 0],\n",
        " [4, -4, 1, 2, -2],\n",
        " [1, 2, 3, 0, -1],\n",
        " [-3, 3, -1, -2, 2],\n",
        " [1, 2, 3, -3, -1],\n",
        " [-2, -1, -3, 0, 2]]\n",
        "p = Polytope(vertices)\n",
        "print(p.is_reflexive())\n",
        "\n",
        "vertices = [[4, -2, 3, 2, -3],\n",
        " [1, -2, -1, 2, 0],\n",
        " [4, -4, 1, 2, -2],\n",
        " [1, 2, 3, 0, -1],\n",
        " [-3, 3, -1, -2, 2],\n",
        " [1, 2, 3, -3, -1],\n",
        " [-2, -4, -5, 2, 1]]\n",
        "p = Polytope(vertices)\n",
        "print(p.is_reflexive())"
      ]
    },
    {
      "cell_type": "code",
      "execution_count": null,
      "metadata": {
        "colab": {
          "base_uri": "https://localhost:8080/"
        },
        "id": "VMnUgCzXEyET",
        "outputId": "eed879ef-5162-4b58-e682-bbcdf7a19e45"
      },
      "outputs": [
        {
          "name": "stdout",
          "output_type": "stream",
          "text": [
            "True\n",
            "9\n",
            "2\n",
            "305\n",
            "1296\n",
            "1920\n",
            "True\n",
            "11\n",
            "0\n",
            "301\n",
            "1292\n",
            "1920\n"
          ]
        }
      ],
      "source": [
        "vertices = [[ -2,   0,   0,   1,  -1],\n",
        " [  1,   0,   0,  -2,  -2],\n",
        " [  0,   0,   0,   1,   1],\n",
        " [ -2,  -1,   0,  -2,  -1],\n",
        " [ -3,   2,  -1,   5,  -2],\n",
        " [  1,   0,   0,  -1,   0],\n",
        " [  0,  -1,   1,   1,   3],\n",
        " [  6,  -1,   1,  -5,   1],\n",
        " [-12,   2,  -2,   7,  -7]]\n",
        "p = Polytope(vertices)\n",
        "print(p.is_reflexive())\n",
        "print(p.hpq(1,1,lattice=\"N\"))\n",
        "print(p.hpq(1,2,lattice=\"N\"))\n",
        "print(p.hpq(1,3,lattice=\"N\"))\n",
        "print(p.hpq(2,2,lattice=\"N\"))\n",
        "print(p.chi(lattice=\"N\"))\n",
        "\n",
        "vertices = [[  0,   0,   0,   1,   1],\n",
        " [  1,   0,   0,  -2,  -2],\n",
        " [  0,   0,   0,   1,   1],\n",
        " [  0,  -2,   0,   1,  -1],\n",
        " [ -5,   3,  -1,   1,  -4],\n",
        " [  1,   0,   0,  -1,   0],\n",
        " [  0,  -1,   1,   1,   3],\n",
        " [  6,  -1,   1,  -5,   1],\n",
        " [-12,   2,  -2,   7,  -7]]\n",
        "p = Polytope(vertices)\n",
        "print(p.is_reflexive())\n",
        "print(p.hpq(1,1,lattice=\"N\"))\n",
        "print(p.hpq(1,2,lattice=\"N\"))\n",
        "print(p.hpq(1,3,lattice=\"N\"))\n",
        "print(p.hpq(2,2,lattice=\"N\"))\n",
        "print(p.chi(lattice=\"N\"))"
      ]
    },
    {
      "cell_type": "code",
      "execution_count": null,
      "metadata": {
        "colab": {
          "base_uri": "https://localhost:8080/"
        },
        "id": "fCbDB5tbNh7k",
        "outputId": "0591dbc2-ccd8-4cb4-ec1b-23e9104270d4"
      },
      "outputs": [
        {
          "name": "stdout",
          "output_type": "stream",
          "text": [
            "False\n"
          ]
        }
      ],
      "source": [
        "vertices = [[-4, 3, 1, -3, 2],\n",
        " [1, 4, -4, -2, -3],\n",
        " [-1,  0,  2, -2,  1],\n",
        " [ 4,  0, -3, -2, -4],\n",
        " [ 2, -1,  0, -2,  1],\n",
        " [-1,  2,  0, -2,  1],\n",
        " [ 3, -3,  4,  1, -2]]\n",
        "p = Polytope(vertices)\n",
        "print(p.is_reflexive())"
      ]
    },
    {
      "cell_type": "markdown",
      "metadata": {
        "id": "GTQV0ptsb6j5"
      },
      "source": [
        "Check extremal cases"
      ]
    },
    {
      "cell_type": "code",
      "execution_count": null,
      "metadata": {
        "colab": {
          "base_uri": "https://localhost:8080/"
        },
        "id": "fWVm57xZb9vb",
        "outputId": "2452f0e1-706d-4f75-9ffc-4c5092c39bdf"
      },
      "outputs": [
        {
          "name": "stdout",
          "output_type": "stream",
          "text": [
            "True\n",
            "True\n"
          ]
        }
      ],
      "source": [
        "vertices = [[  0,  -1,   1,  -1,  -5],\n",
        "  [  0,   2,  -2,   1, -69],\n",
        "  [  0,   1,   0,  -1,  -4],\n",
        "  [ -3,   0,   2,  -7,   0],\n",
        "  [ -1,  -1,   1,  -2,   0],\n",
        "  [  3,  -2,   1,   5,  141]]\n",
        "p = Polytope(vertices)\n",
        "print(p.is_reflexive())\n",
        "\n",
        "vertices = [[     0,     -1,      1,     -1,     -5],\n",
        "       [     0,      2,     -2,      1, -99999],\n",
        "       [     0,      1,      0,     -1,     -4],\n",
        "       [    -3,      0,      2,     -7,      0],\n",
        "       [    -1,     -1,      1,     -2,      0],\n",
        "       [     3,     -2,      1,      5, 200001]]\n",
        "p = Polytope(vertices)\n",
        "print(p.is_reflexive())\n",
        "\n"
      ]
    },
    {
      "cell_type": "code",
      "execution_count": null,
      "metadata": {
        "colab": {
          "base_uri": "https://localhost:8080/"
        },
        "id": "SKJKa0HpDoqa",
        "outputId": "436c8311-f316-4940-b845-ba126b9695b8"
      },
      "outputs": [
        {
          "name": "stdout",
          "output_type": "stream",
          "text": [
            "4-dimensional simplices from convex hull: [[3 2 4 5]\n",
            " [3 2 4 0]\n",
            " [1 3 2 5]\n",
            " [1 3 2 0]\n",
            " [1 2 4 0]\n",
            " [1 2 4 5]\n",
            " [1 3 4 5]\n",
            " [1 3 4 0]]\n",
            "5-dimensional cones for CYTools: [[6, 3, 2, 4, 5], [6, 3, 2, 4, 0], [6, 1, 3, 2, 5], [6, 1, 3, 2, 0], [6, 1, 2, 4, 0], [6, 1, 2, 4, 5], [6, 1, 3, 4, 5], [6, 1, 3, 4, 0]]\n",
            "The simplices are equivalent: False\n"
          ]
        }
      ],
      "source": [
        "from scipy.spatial import ConvexHull\n",
        "from scipy.spatial.distance import cdist\n",
        "import numpy as np\n",
        "\n",
        "vertices = [[1,0,0,0],[0,1,0,0],[0,0,1,0],[0,0,0,1],[-1,-2,-1,-1],[-2,-1,-1,-1]]\n",
        "vertices = np.array(vertices)\n",
        "\n",
        "hull = ConvexHull(vertices)\n",
        "hull_simplices = hull.simplices\n",
        "print(\"4-dimensional simplices from convex hull:\", hull_simplices)\n",
        "\n",
        "# Extend each 4-simplex into a 5-simplex by adding an origin vertex (assuming index '6')\n",
        "origin_vertex = np.zeros((1, vertices.shape[1]))\n",
        "all_vertices = np.vstack([vertices, origin_vertex])\n",
        "\n",
        "# Convert each 4D simplex to 5D by adding the origin (index 6)\n",
        "extended_hull_simplices = [[6] + list(simplex) for simplex in hull_simplices]\n",
        "print(\"5-dimensional cones for CYTools:\", extended_hull_simplices)\n",
        "\n",
        "cytools_simplices = [[0,1,2,3,4],[0,1,2,3,5],[0,1,2,4,6],[0,1,2,5,6],[0,1,3,4,5],[0,1,4,5,6],[0,2,3,4,5],[0,2,4,5,6]]\n",
        "\n",
        "# Convert each simplex in both lists to a set of vertices\n",
        "hull_simplices_sets = [set(simplex) for simplex in extended_hull_simplices]\n",
        "cytools_simplices_sets = [set(simplex) for simplex in cytools_simplices]\n",
        "\n",
        "# Convert the lists of sets to sets of sets for order-insensitive comparison\n",
        "hull_simplices_set_of_sets = set(map(frozenset, hull_simplices_sets))\n",
        "cytools_simplices_set_of_sets = set(map(frozenset, cytools_simplices_sets))\n",
        "\n",
        "# Check if both sets are equal\n",
        "print(\"The simplices are equivalent:\", hull_simplices_set_of_sets == cytools_simplices_set_of_sets)\n",
        "\n",
        "p = Polytope(vertices)\n",
        "#p.triangulate(simplices=extended_hull_simplices)"
      ]
    },
    {
      "cell_type": "code",
      "execution_count": null,
      "metadata": {
        "colab": {
          "base_uri": "https://localhost:8080/",
          "height": 579
        },
        "id": "ZXD1h7bzbgEY",
        "outputId": "85955d24-b460-4fff-80c8-80063dab55f1"
      },
      "outputs": [
        {
          "name": "stdout",
          "output_type": "stream",
          "text": [
            "[[1 3 0 6 4]\n",
            " [1 3 0 6 2]\n",
            " [5 3 0 6 4]\n",
            " [5 3 0 6 2]\n",
            " [5 1 3 0 4]\n",
            " [5 1 3 0 2]\n",
            " [5 1 0 6 2]\n",
            " [5 1 0 6 4]\n",
            " [5 1 3 6 4]\n",
            " [5 1 3 6 2]]\n",
            "True\n"
          ]
        },
        {
          "ename": "ValueError",
          "evalue": "Input simplices have wrong dimension.",
          "output_type": "error",
          "traceback": [
            "\u001b[0;31m---------------------------------------------------------------------------\u001b[0m",
            "\u001b[0;31mValueError\u001b[0m                                Traceback (most recent call last)",
            "\u001b[0;32m<ipython-input-18-cea1aff5aa5e>\u001b[0m in \u001b[0;36m<cell line: 11>\u001b[0;34m()\u001b[0m\n\u001b[1;32m      9\u001b[0m \u001b[0;34m\u001b[0m\u001b[0m\n\u001b[1;32m     10\u001b[0m \u001b[0mnef_part\u001b[0m \u001b[0;34m=\u001b[0m \u001b[0mp\u001b[0m\u001b[0;34m.\u001b[0m\u001b[0mnef_partitions\u001b[0m\u001b[0;34m(\u001b[0m\u001b[0mcompute_hodge_numbers\u001b[0m\u001b[0;34m=\u001b[0m\u001b[0;32mFalse\u001b[0m\u001b[0;34m)\u001b[0m\u001b[0;34m\u001b[0m\u001b[0;34m\u001b[0m\u001b[0m\n\u001b[0;32m---> 11\u001b[0;31m \u001b[0mt\u001b[0m \u001b[0;34m=\u001b[0m \u001b[0mp\u001b[0m\u001b[0;34m.\u001b[0m\u001b[0mtriangulate\u001b[0m\u001b[0;34m(\u001b[0m\u001b[0msimplices\u001b[0m\u001b[0;34m=\u001b[0m\u001b[0mhull\u001b[0m\u001b[0;34m.\u001b[0m\u001b[0msimplices\u001b[0m\u001b[0;34m,\u001b[0m \u001b[0minclude_points_interior_to_facets\u001b[0m\u001b[0;34m=\u001b[0m\u001b[0;32mTrue\u001b[0m\u001b[0;34m)\u001b[0m\u001b[0;34m\u001b[0m\u001b[0;34m\u001b[0m\u001b[0m\n\u001b[0m\u001b[1;32m     12\u001b[0m \u001b[0mcy\u001b[0m \u001b[0;34m=\u001b[0m \u001b[0mt\u001b[0m\u001b[0;34m.\u001b[0m\u001b[0mget_cy\u001b[0m\u001b[0;34m(\u001b[0m\u001b[0mnef_part\u001b[0m\u001b[0;34m[\u001b[0m\u001b[0;36m0\u001b[0m\u001b[0;34m]\u001b[0m\u001b[0;34m)\u001b[0m\u001b[0;34m\u001b[0m\u001b[0;34m\u001b[0m\u001b[0m\n\u001b[1;32m     13\u001b[0m \u001b[0mcy\u001b[0m\u001b[0;34m.\u001b[0m\u001b[0mh11\u001b[0m\u001b[0;34m(\u001b[0m\u001b[0;34m)\u001b[0m \u001b[0;31m# The function is called here since the Hodge numbers have not been computed\u001b[0m\u001b[0;34m\u001b[0m\u001b[0;34m\u001b[0m\u001b[0m\n",
            "\u001b[0;32m/usr/local/lib/python3.10/dist-packages/cytools/polytope.py\u001b[0m in \u001b[0;36mtriangulate\u001b[0;34m(self, heights, make_star, include_points_interior_to_facets, points, simplices, check_input_simplices, backend)\u001b[0m\n\u001b[1;32m   2929\u001b[0m         \u001b[0;32mif\u001b[0m \u001b[0;32mnot\u001b[0m \u001b[0mself\u001b[0m\u001b[0;34m.\u001b[0m\u001b[0mis_reflexive\u001b[0m\u001b[0;34m(\u001b[0m\u001b[0;34m)\u001b[0m \u001b[0;32mand\u001b[0m \u001b[0;34m(\u001b[0m\u001b[0;36m0\u001b[0m\u001b[0;34m,\u001b[0m\u001b[0;34m)\u001b[0m\u001b[0;34m*\u001b[0m\u001b[0mself\u001b[0m\u001b[0;34m.\u001b[0m\u001b[0m_dim\u001b[0m \u001b[0;32mnot\u001b[0m \u001b[0;32min\u001b[0m \u001b[0;34m[\u001b[0m\u001b[0mtuple\u001b[0m\u001b[0;34m(\u001b[0m\u001b[0mpt\u001b[0m\u001b[0;34m)\u001b[0m \u001b[0;32mfor\u001b[0m \u001b[0mpt\u001b[0m \u001b[0;32min\u001b[0m \u001b[0mtriang_pts\u001b[0m\u001b[0;34m]\u001b[0m\u001b[0;34m:\u001b[0m\u001b[0;34m\u001b[0m\u001b[0;34m\u001b[0m\u001b[0m\n\u001b[1;32m   2930\u001b[0m             \u001b[0mmake_star\u001b[0m \u001b[0;34m=\u001b[0m \u001b[0;32mFalse\u001b[0m\u001b[0;34m\u001b[0m\u001b[0;34m\u001b[0m\u001b[0m\n\u001b[0;32m-> 2931\u001b[0;31m         return Triangulation(triang_pts, poly=self, heights=triang_heights,\n\u001b[0m\u001b[1;32m   2932\u001b[0m                              \u001b[0mmake_star\u001b[0m\u001b[0;34m=\u001b[0m\u001b[0mmake_star\u001b[0m\u001b[0;34m,\u001b[0m \u001b[0msimplices\u001b[0m\u001b[0;34m=\u001b[0m\u001b[0msimplices\u001b[0m\u001b[0;34m,\u001b[0m\u001b[0;34m\u001b[0m\u001b[0;34m\u001b[0m\u001b[0m\n\u001b[1;32m   2933\u001b[0m                              \u001b[0mcheck_input_simplices\u001b[0m\u001b[0;34m=\u001b[0m\u001b[0mcheck_input_simplices\u001b[0m\u001b[0;34m,\u001b[0m\u001b[0;34m\u001b[0m\u001b[0;34m\u001b[0m\u001b[0m\n",
            "\u001b[0;32m/usr/local/lib/python3.10/dist-packages/cytools/triangulation.py\u001b[0m in \u001b[0;36m__init__\u001b[0;34m(self, triang_pts, poly, heights, make_star, simplices, check_input_simplices, backend)\u001b[0m\n\u001b[1;32m    215\u001b[0m             \u001b[0mself\u001b[0m\u001b[0;34m.\u001b[0m\u001b[0m_simplices\u001b[0m \u001b[0;34m=\u001b[0m \u001b[0mnp\u001b[0m\u001b[0;34m.\u001b[0m\u001b[0marray\u001b[0m\u001b[0;34m(\u001b[0m\u001b[0msorted\u001b[0m\u001b[0;34m(\u001b[0m\u001b[0;34m[\u001b[0m\u001b[0msorted\u001b[0m\u001b[0;34m(\u001b[0m\u001b[0ms\u001b[0m\u001b[0;34m)\u001b[0m \u001b[0;32mfor\u001b[0m \u001b[0ms\u001b[0m \u001b[0;32min\u001b[0m \u001b[0msimplices\u001b[0m\u001b[0;34m]\u001b[0m\u001b[0;34m)\u001b[0m\u001b[0;34m,\u001b[0m\u001b[0mdtype\u001b[0m\u001b[0;34m=\u001b[0m\u001b[0mint\u001b[0m\u001b[0;34m)\u001b[0m\u001b[0;34m\u001b[0m\u001b[0;34m\u001b[0m\u001b[0m\n\u001b[1;32m    216\u001b[0m             \u001b[0;32mif\u001b[0m \u001b[0mself\u001b[0m\u001b[0;34m.\u001b[0m\u001b[0m_simplices\u001b[0m\u001b[0;34m.\u001b[0m\u001b[0mshape\u001b[0m\u001b[0;34m[\u001b[0m\u001b[0;36m1\u001b[0m\u001b[0;34m]\u001b[0m \u001b[0;34m!=\u001b[0m \u001b[0mself\u001b[0m\u001b[0;34m.\u001b[0m\u001b[0m_dim\u001b[0m\u001b[0;34m+\u001b[0m\u001b[0;36m1\u001b[0m\u001b[0;34m:\u001b[0m\u001b[0;34m\u001b[0m\u001b[0;34m\u001b[0m\u001b[0m\n\u001b[0;32m--> 217\u001b[0;31m                 \u001b[0;32mraise\u001b[0m \u001b[0mValueError\u001b[0m\u001b[0;34m(\u001b[0m\u001b[0;34m\"Input simplices have wrong dimension.\"\u001b[0m\u001b[0;34m)\u001b[0m\u001b[0;34m\u001b[0m\u001b[0;34m\u001b[0m\u001b[0m\n\u001b[0m\u001b[1;32m    218\u001b[0m             \u001b[0mself\u001b[0m\u001b[0;34m.\u001b[0m\u001b[0m_heights\u001b[0m \u001b[0;34m=\u001b[0m \u001b[0;32mNone\u001b[0m\u001b[0;34m\u001b[0m\u001b[0;34m\u001b[0m\u001b[0m\n\u001b[1;32m    219\u001b[0m             \u001b[0;32mif\u001b[0m \u001b[0mmake_star\u001b[0m\u001b[0;34m:\u001b[0m\u001b[0;34m\u001b[0m\u001b[0;34m\u001b[0m\u001b[0m\n",
            "\u001b[0;31mValueError\u001b[0m: Input simplices have wrong dimension."
          ]
        }
      ],
      "source": [
        "from scipy.spatial import ConvexHull\n",
        "import numpy as np\n",
        "vertices = [[-2,3,1,-3,0], [1,-2,-1,2,0], [4,-4,1,2,-2], [1,2,3,0,-1], [-3,3,-1,-2,2], [1,2,3,-3,-1], [-2,-1,-3,0,2]]\n",
        "hull = ConvexHull(vertices)\n",
        "\n",
        "print(hull.simplices)\n",
        "p = Polytope(vertices)\n",
        "print(p.is_reflexive())\n",
        "\n",
        "nef_part = p.nef_partitions(compute_hodge_numbers=False)\n",
        "t = p.triangulate(simplices=hull.simplices, include_points_interior_to_facets=True)\n",
        "cy = t.get_cy(nef_part[0])\n",
        "cy.h11() # The function is called here since the Hodge numbers have not been computed\n",
        "# 4\n",
        "cy.h21() # It is not called here because the Hodge numbers are already cached\n",
        "# 544\n"
      ]
    }
  ],
  "metadata": {
    "colab": {
      "provenance": []
    },
    "kernelspec": {
      "display_name": "Python 3",
      "name": "python3"
    },
    "language_info": {
      "name": "python"
    }
  },
  "nbformat": 4,
  "nbformat_minor": 0
}
