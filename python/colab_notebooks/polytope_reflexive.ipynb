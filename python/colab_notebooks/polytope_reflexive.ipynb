{
  "nbformat": 4,
  "nbformat_minor": 0,
  "metadata": {
    "colab": {
      "provenance": []
    },
    "kernelspec": {
      "name": "python3",
      "display_name": "Python 3"
    },
    "language_info": {
      "name": "python"
    }
  },
  "cells": [
    {
      "cell_type": "markdown",
      "source": [
        "Check whether polytopes are reflexive"
      ],
      "metadata": {
        "id": "IlOLAoGW2C6l"
      }
    },
    {
      "cell_type": "code",
      "source": [
        "#!sudo apt update && sudo apt full-upgrade\n",
        "#!sudo do-release-upgrade\n",
        "#!sudo apt install python3-pip\n",
        "\n",
        "!apt install libppl-dev\n",
        "!apt install libmpfr-dev\n",
        "!apt install libmpc-dev\n",
        "!apt install libflint-dev\n",
        "!apt install palp"
      ],
      "metadata": {
        "colab": {
          "base_uri": "https://localhost:8080/"
        },
        "id": "tchVs5lr95Pt",
        "outputId": "d99d6045-c866-459b-af74-a933dc6b75f1"
      },
      "execution_count": 1,
      "outputs": [
        {
          "output_type": "stream",
          "name": "stdout",
          "text": [
            "Reading package lists... Done\n",
            "Building dependency tree... Done\n",
            "Reading state information... Done\n",
            "The following additional packages will be installed:\n",
            "  libgmp-dev libgmpxx4ldbl libppl-c4 libppl14\n",
            "Suggested packages:\n",
            "  gmp-doc libgmp10-doc libmpfr-dev libppl-doc\n",
            "The following NEW packages will be installed:\n",
            "  libgmp-dev libgmpxx4ldbl libppl-c4 libppl-dev libppl14\n",
            "0 upgraded, 5 newly installed, 0 to remove and 32 not upgraded.\n",
            "Need to get 3,874 kB of archives.\n",
            "After this operation, 29.7 MB of additional disk space will be used.\n",
            "Get:1 http://archive.ubuntu.com/ubuntu jammy/main amd64 libgmpxx4ldbl amd64 2:6.2.1+dfsg-3ubuntu1 [9,580 B]\n",
            "Get:2 http://archive.ubuntu.com/ubuntu jammy/main amd64 libgmp-dev amd64 2:6.2.1+dfsg-3ubuntu1 [337 kB]\n",
            "Get:3 http://archive.ubuntu.com/ubuntu jammy/universe amd64 libppl14 amd64 1:1.2-8.1build1 [434 kB]\n",
            "Get:4 http://archive.ubuntu.com/ubuntu jammy/universe amd64 libppl-c4 amd64 1:1.2-8.1build1 [1,084 kB]\n",
            "Get:5 http://archive.ubuntu.com/ubuntu jammy/universe amd64 libppl-dev amd64 1:1.2-8.1build1 [2,009 kB]\n",
            "Fetched 3,874 kB in 2s (1,695 kB/s)\n",
            "Selecting previously unselected package libgmpxx4ldbl:amd64.\n",
            "(Reading database ... 121749 files and directories currently installed.)\n",
            "Preparing to unpack .../libgmpxx4ldbl_2%3a6.2.1+dfsg-3ubuntu1_amd64.deb ...\n",
            "Unpacking libgmpxx4ldbl:amd64 (2:6.2.1+dfsg-3ubuntu1) ...\n",
            "Selecting previously unselected package libgmp-dev:amd64.\n",
            "Preparing to unpack .../libgmp-dev_2%3a6.2.1+dfsg-3ubuntu1_amd64.deb ...\n",
            "Unpacking libgmp-dev:amd64 (2:6.2.1+dfsg-3ubuntu1) ...\n",
            "Selecting previously unselected package libppl14:amd64.\n",
            "Preparing to unpack .../libppl14_1%3a1.2-8.1build1_amd64.deb ...\n",
            "Unpacking libppl14:amd64 (1:1.2-8.1build1) ...\n",
            "Selecting previously unselected package libppl-c4:amd64.\n",
            "Preparing to unpack .../libppl-c4_1%3a1.2-8.1build1_amd64.deb ...\n",
            "Unpacking libppl-c4:amd64 (1:1.2-8.1build1) ...\n",
            "Selecting previously unselected package libppl-dev:amd64.\n",
            "Preparing to unpack .../libppl-dev_1%3a1.2-8.1build1_amd64.deb ...\n",
            "Unpacking libppl-dev:amd64 (1:1.2-8.1build1) ...\n",
            "Setting up libgmpxx4ldbl:amd64 (2:6.2.1+dfsg-3ubuntu1) ...\n",
            "Setting up libppl14:amd64 (1:1.2-8.1build1) ...\n",
            "Setting up libgmp-dev:amd64 (2:6.2.1+dfsg-3ubuntu1) ...\n",
            "Setting up libppl-c4:amd64 (1:1.2-8.1build1) ...\n",
            "Setting up libppl-dev:amd64 (1:1.2-8.1build1) ...\n",
            "Processing triggers for man-db (2.10.2-1) ...\n",
            "Processing triggers for libc-bin (2.35-0ubuntu3.4) ...\n",
            "/sbin/ldconfig.real: /usr/local/lib/libtbbmalloc.so.2 is not a symbolic link\n",
            "\n",
            "/sbin/ldconfig.real: /usr/local/lib/libtbbbind.so.3 is not a symbolic link\n",
            "\n",
            "/sbin/ldconfig.real: /usr/local/lib/libtbbbind_2_0.so.3 is not a symbolic link\n",
            "\n",
            "/sbin/ldconfig.real: /usr/local/lib/libtbb.so.12 is not a symbolic link\n",
            "\n",
            "/sbin/ldconfig.real: /usr/local/lib/libtbbmalloc_proxy.so.2 is not a symbolic link\n",
            "\n",
            "/sbin/ldconfig.real: /usr/local/lib/libtbbbind_2_5.so.3 is not a symbolic link\n",
            "\n",
            "Reading package lists... Done\n",
            "Building dependency tree... Done\n",
            "Reading state information... Done\n",
            "Suggested packages:\n",
            "  libmpfr-doc\n",
            "The following NEW packages will be installed:\n",
            "  libmpfr-dev\n",
            "0 upgraded, 1 newly installed, 0 to remove and 32 not upgraded.\n",
            "Need to get 271 kB of archives.\n",
            "After this operation, 1,271 kB of additional disk space will be used.\n",
            "Get:1 http://archive.ubuntu.com/ubuntu jammy/main amd64 libmpfr-dev amd64 4.1.0-3build3 [271 kB]\n",
            "Fetched 271 kB in 2s (170 kB/s)\n",
            "Selecting previously unselected package libmpfr-dev:amd64.\n",
            "(Reading database ... 121801 files and directories currently installed.)\n",
            "Preparing to unpack .../libmpfr-dev_4.1.0-3build3_amd64.deb ...\n",
            "Unpacking libmpfr-dev:amd64 (4.1.0-3build3) ...\n",
            "Setting up libmpfr-dev:amd64 (4.1.0-3build3) ...\n",
            "Reading package lists... Done\n",
            "Building dependency tree... Done\n",
            "Reading state information... Done\n",
            "The following NEW packages will be installed:\n",
            "  libmpc-dev\n",
            "0 upgraded, 1 newly installed, 0 to remove and 32 not upgraded.\n",
            "Need to get 60.1 kB of archives.\n",
            "After this operation, 300 kB of additional disk space will be used.\n",
            "Get:1 http://archive.ubuntu.com/ubuntu jammy/main amd64 libmpc-dev amd64 1.2.1-2build1 [60.1 kB]\n",
            "Fetched 60.1 kB in 1s (66.1 kB/s)\n",
            "Selecting previously unselected package libmpc-dev:amd64.\n",
            "(Reading database ... 121815 files and directories currently installed.)\n",
            "Preparing to unpack .../libmpc-dev_1.2.1-2build1_amd64.deb ...\n",
            "Unpacking libmpc-dev:amd64 (1.2.1-2build1) ...\n",
            "Setting up libmpc-dev:amd64 (1.2.1-2build1) ...\n",
            "Reading package lists... Done\n",
            "Building dependency tree... Done\n",
            "Reading state information... Done\n",
            "The following additional packages will be installed:\n",
            "  libflint-2.8.4 libgf2x3 libntl44\n",
            "The following NEW packages will be installed:\n",
            "  libflint-2.8.4 libflint-dev libgf2x3 libntl44\n",
            "0 upgraded, 4 newly installed, 0 to remove and 32 not upgraded.\n",
            "Need to get 5,969 kB of archives.\n",
            "After this operation, 27.6 MB of additional disk space will be used.\n",
            "Get:1 http://archive.ubuntu.com/ubuntu jammy/universe amd64 libgf2x3 amd64 1.3.0-2 [27.9 kB]\n",
            "Get:2 http://archive.ubuntu.com/ubuntu jammy/universe amd64 libntl44 amd64 11.5.1-1 [838 kB]\n",
            "Get:3 http://archive.ubuntu.com/ubuntu jammy/universe amd64 libflint-2.8.4 amd64 2.8.4-2build1 [2,299 kB]\n",
            "Get:4 http://archive.ubuntu.com/ubuntu jammy/universe amd64 libflint-dev amd64 2.8.4-2build1 [2,804 kB]\n",
            "Fetched 5,969 kB in 2s (2,430 kB/s)\n",
            "Selecting previously unselected package libgf2x3:amd64.\n",
            "(Reading database ... 121825 files and directories currently installed.)\n",
            "Preparing to unpack .../libgf2x3_1.3.0-2_amd64.deb ...\n",
            "Unpacking libgf2x3:amd64 (1.3.0-2) ...\n",
            "Selecting previously unselected package libntl44:amd64.\n",
            "Preparing to unpack .../libntl44_11.5.1-1_amd64.deb ...\n",
            "Unpacking libntl44:amd64 (11.5.1-1) ...\n",
            "Selecting previously unselected package libflint-2.8.4:amd64.\n",
            "Preparing to unpack .../libflint-2.8.4_2.8.4-2build1_amd64.deb ...\n",
            "Unpacking libflint-2.8.4:amd64 (2.8.4-2build1) ...\n",
            "Selecting previously unselected package libflint-dev.\n",
            "Preparing to unpack .../libflint-dev_2.8.4-2build1_amd64.deb ...\n",
            "Unpacking libflint-dev (2.8.4-2build1) ...\n",
            "Setting up libgf2x3:amd64 (1.3.0-2) ...\n",
            "Setting up libntl44:amd64 (11.5.1-1) ...\n",
            "Setting up libflint-2.8.4:amd64 (2.8.4-2build1) ...\n",
            "Setting up libflint-dev (2.8.4-2build1) ...\n",
            "Processing triggers for libc-bin (2.35-0ubuntu3.4) ...\n",
            "/sbin/ldconfig.real: /usr/local/lib/libtbbmalloc.so.2 is not a symbolic link\n",
            "\n",
            "/sbin/ldconfig.real: /usr/local/lib/libtbbbind.so.3 is not a symbolic link\n",
            "\n",
            "/sbin/ldconfig.real: /usr/local/lib/libtbbbind_2_0.so.3 is not a symbolic link\n",
            "\n",
            "/sbin/ldconfig.real: /usr/local/lib/libtbb.so.12 is not a symbolic link\n",
            "\n",
            "/sbin/ldconfig.real: /usr/local/lib/libtbbmalloc_proxy.so.2 is not a symbolic link\n",
            "\n",
            "/sbin/ldconfig.real: /usr/local/lib/libtbbbind_2_5.so.3 is not a symbolic link\n",
            "\n",
            "Reading package lists... Done\n",
            "Building dependency tree... Done\n",
            "Reading state information... Done\n",
            "The following NEW packages will be installed:\n",
            "  palp\n",
            "0 upgraded, 1 newly installed, 0 to remove and 32 not upgraded.\n",
            "Need to get 749 kB of archives.\n",
            "After this operation, 3,183 kB of additional disk space will be used.\n",
            "Get:1 http://archive.ubuntu.com/ubuntu jammy/universe amd64 palp amd64 2.20-2 [749 kB]\n",
            "Fetched 749 kB in 2s (432 kB/s)\n",
            "Selecting previously unselected package palp.\n",
            "(Reading database ... 121987 files and directories currently installed.)\n",
            "Preparing to unpack .../archives/palp_2.20-2_amd64.deb ...\n",
            "Unpacking palp (2.20-2) ...\n",
            "Setting up palp (2.20-2) ...\n",
            "Processing triggers for man-db (2.10.2-1) ...\n"
          ]
        }
      ]
    },
    {
      "cell_type": "code",
      "source": [
        "!python3 --version"
      ],
      "metadata": {
        "colab": {
          "base_uri": "https://localhost:8080/"
        },
        "id": "HaxSGSGx9053",
        "outputId": "cc80d8a3-ed98-414c-bca7-69201ece0f46"
      },
      "execution_count": 2,
      "outputs": [
        {
          "output_type": "stream",
          "name": "stdout",
          "text": [
            "Python 3.10.12\n"
          ]
        }
      ]
    },
    {
      "cell_type": "code",
      "source": [
        "!pip install gmpy2 sympy tqdm python-flint ortools pandas qpsolvers\n",
        "!pip install cysignals\n",
        "!pip install pplpy\n",
        "!pip install scipy\n",
        "!pip install cytools"
      ],
      "metadata": {
        "colab": {
          "base_uri": "https://localhost:8080/"
        },
        "id": "K0fMn8zI3JJx",
        "outputId": "28e24d50-d05b-4ed4-a734-069269450265"
      },
      "execution_count": 3,
      "outputs": [
        {
          "output_type": "stream",
          "name": "stdout",
          "text": [
            "Collecting gmpy2\n",
            "  Downloading gmpy2-2.1.5-cp310-cp310-manylinux_2_17_x86_64.manylinux2014_x86_64.whl (1.7 MB)\n",
            "\u001b[2K     \u001b[90m━━━━━━━━━━━━━━━━━━━━━━━━━━━━━━━━━━━━━━━━\u001b[0m \u001b[32m1.7/1.7 MB\u001b[0m \u001b[31m8.1 MB/s\u001b[0m eta \u001b[36m0:00:00\u001b[0m\n",
            "\u001b[?25hRequirement already satisfied: sympy in /usr/local/lib/python3.10/dist-packages (1.12)\n",
            "Requirement already satisfied: tqdm in /usr/local/lib/python3.10/dist-packages (4.66.1)\n",
            "Collecting python-flint\n",
            "  Downloading python_flint-0.6.0-cp310-cp310-manylinux_2_17_x86_64.manylinux2014_x86_64.whl (41.1 MB)\n",
            "\u001b[2K     \u001b[90m━━━━━━━━━━━━━━━━━━━━━━━━━━━━━━━━━━━━━━━━\u001b[0m \u001b[32m41.1/41.1 MB\u001b[0m \u001b[31m21.5 MB/s\u001b[0m eta \u001b[36m0:00:00\u001b[0m\n",
            "\u001b[?25hCollecting ortools\n",
            "  Downloading ortools-9.8.3296-cp310-cp310-manylinux_2_17_x86_64.manylinux2014_x86_64.whl (22.9 MB)\n",
            "\u001b[2K     \u001b[90m━━━━━━━━━━━━━━━━━━━━━━━━━━━━━━━━━━━━━━━━\u001b[0m \u001b[32m22.9/22.9 MB\u001b[0m \u001b[31m52.1 MB/s\u001b[0m eta \u001b[36m0:00:00\u001b[0m\n",
            "\u001b[?25hRequirement already satisfied: pandas in /usr/local/lib/python3.10/dist-packages (1.5.3)\n",
            "Collecting qpsolvers\n",
            "  Downloading qpsolvers-4.3.1-py3-none-any.whl (78 kB)\n",
            "\u001b[2K     \u001b[90m━━━━━━━━━━━━━━━━━━━━━━━━━━━━━━━━━━━━━━━━\u001b[0m \u001b[32m78.7/78.7 kB\u001b[0m \u001b[31m10.6 MB/s\u001b[0m eta \u001b[36m0:00:00\u001b[0m\n",
            "\u001b[?25hRequirement already satisfied: mpmath>=0.19 in /usr/local/lib/python3.10/dist-packages (from sympy) (1.3.0)\n",
            "Collecting absl-py>=2.0.0 (from ortools)\n",
            "  Downloading absl_py-2.1.0-py3-none-any.whl (133 kB)\n",
            "\u001b[2K     \u001b[90m━━━━━━━━━━━━━━━━━━━━━━━━━━━━━━━━━━━━━━━━\u001b[0m \u001b[32m133.7/133.7 kB\u001b[0m \u001b[31m16.9 MB/s\u001b[0m eta \u001b[36m0:00:00\u001b[0m\n",
            "\u001b[?25hRequirement already satisfied: numpy>=1.13.3 in /usr/local/lib/python3.10/dist-packages (from ortools) (1.23.5)\n",
            "Collecting pandas\n",
            "  Downloading pandas-2.2.0-cp310-cp310-manylinux_2_17_x86_64.manylinux2014_x86_64.whl (13.0 MB)\n",
            "\u001b[2K     \u001b[90m━━━━━━━━━━━━━━━━━━━━━━━━━━━━━━━━━━━━━━━━\u001b[0m \u001b[32m13.0/13.0 MB\u001b[0m \u001b[31m71.0 MB/s\u001b[0m eta \u001b[36m0:00:00\u001b[0m\n",
            "\u001b[?25hCollecting protobuf>=4.25.0 (from ortools)\n",
            "  Downloading protobuf-4.25.2-cp37-abi3-manylinux2014_x86_64.whl (294 kB)\n",
            "\u001b[2K     \u001b[90m━━━━━━━━━━━━━━━━━━━━━━━━━━━━━━━━━━━━━━━━\u001b[0m \u001b[32m294.6/294.6 kB\u001b[0m \u001b[31m28.2 MB/s\u001b[0m eta \u001b[36m0:00:00\u001b[0m\n",
            "\u001b[?25hRequirement already satisfied: python-dateutil>=2.8.2 in /usr/local/lib/python3.10/dist-packages (from pandas) (2.8.2)\n",
            "Requirement already satisfied: pytz>=2020.1 in /usr/local/lib/python3.10/dist-packages (from pandas) (2023.4)\n",
            "Collecting tzdata>=2022.7 (from pandas)\n",
            "  Downloading tzdata-2023.4-py2.py3-none-any.whl (346 kB)\n",
            "\u001b[2K     \u001b[90m━━━━━━━━━━━━━━━━━━━━━━━━━━━━━━━━━━━━━━━━\u001b[0m \u001b[32m346.6/346.6 kB\u001b[0m \u001b[31m31.4 MB/s\u001b[0m eta \u001b[36m0:00:00\u001b[0m\n",
            "\u001b[?25hRequirement already satisfied: scipy>=1.2.0 in /usr/local/lib/python3.10/dist-packages (from qpsolvers) (1.11.4)\n",
            "Requirement already satisfied: six>=1.5 in /usr/local/lib/python3.10/dist-packages (from python-dateutil>=2.8.2->pandas) (1.16.0)\n",
            "Installing collected packages: python-flint, gmpy2, tzdata, protobuf, absl-py, qpsolvers, pandas, ortools\n",
            "  Attempting uninstall: protobuf\n",
            "    Found existing installation: protobuf 3.20.3\n",
            "    Uninstalling protobuf-3.20.3:\n",
            "      Successfully uninstalled protobuf-3.20.3\n",
            "  Attempting uninstall: absl-py\n",
            "    Found existing installation: absl-py 1.4.0\n",
            "    Uninstalling absl-py-1.4.0:\n",
            "      Successfully uninstalled absl-py-1.4.0\n",
            "  Attempting uninstall: pandas\n",
            "    Found existing installation: pandas 1.5.3\n",
            "    Uninstalling pandas-1.5.3:\n",
            "      Successfully uninstalled pandas-1.5.3\n",
            "\u001b[31mERROR: pip's dependency resolver does not currently take into account all the packages that are installed. This behaviour is the source of the following dependency conflicts.\n",
            "lida 0.0.10 requires fastapi, which is not installed.\n",
            "lida 0.0.10 requires kaleido, which is not installed.\n",
            "lida 0.0.10 requires python-multipart, which is not installed.\n",
            "lida 0.0.10 requires uvicorn, which is not installed.\n",
            "bigframes 0.20.1 requires pandas<2.1.4,>=1.5.0, but you have pandas 2.2.0 which is incompatible.\n",
            "google-colab 1.0.0 requires pandas==1.5.3, but you have pandas 2.2.0 which is incompatible.\n",
            "tensorboard 2.15.1 requires protobuf<4.24,>=3.19.6, but you have protobuf 4.25.2 which is incompatible.\n",
            "tensorflow-metadata 1.14.0 requires absl-py<2.0.0,>=0.9, but you have absl-py 2.1.0 which is incompatible.\n",
            "tensorflow-metadata 1.14.0 requires protobuf<4.21,>=3.20.3, but you have protobuf 4.25.2 which is incompatible.\u001b[0m\u001b[31m\n",
            "\u001b[0mSuccessfully installed absl-py-2.1.0 gmpy2-2.1.5 ortools-9.8.3296 pandas-2.2.0 protobuf-4.25.2 python-flint-0.6.0 qpsolvers-4.3.1 tzdata-2023.4\n",
            "Collecting cysignals\n",
            "  Downloading cysignals-1.11.4-cp310-cp310-manylinux_2_17_x86_64.manylinux2014_x86_64.whl (1.1 MB)\n",
            "\u001b[2K     \u001b[90m━━━━━━━━━━━━━━━━━━━━━━━━━━━━━━━━━━━━━━━━\u001b[0m \u001b[32m1.1/1.1 MB\u001b[0m \u001b[31m8.5 MB/s\u001b[0m eta \u001b[36m0:00:00\u001b[0m\n",
            "\u001b[?25hInstalling collected packages: cysignals\n",
            "Successfully installed cysignals-1.11.4\n",
            "Collecting pplpy\n",
            "  Downloading pplpy-0.8.9.tar.gz (66 kB)\n",
            "\u001b[2K     \u001b[90m━━━━━━━━━━━━━━━━━━━━━━━━━━━━━━━━━━━━━━━━\u001b[0m \u001b[32m66.0/66.0 kB\u001b[0m \u001b[31m1.7 MB/s\u001b[0m eta \u001b[36m0:00:00\u001b[0m\n",
            "\u001b[?25h  Installing build dependencies ... \u001b[?25l\u001b[?25hdone\n",
            "  Getting requirements to build wheel ... \u001b[?25l\u001b[?25hdone\n",
            "  Preparing metadata (pyproject.toml) ... \u001b[?25l\u001b[?25hdone\n",
            "Building wheels for collected packages: pplpy\n",
            "  Building wheel for pplpy (pyproject.toml) ... \u001b[?25l\u001b[?25hdone\n",
            "  Created wheel for pplpy: filename=pplpy-0.8.9-cp310-cp310-linux_x86_64.whl size=3313208 sha256=c23e6deba2a4385c7e7df9ffb06ad3705a783734f1f74ca9a1e2611c52203b6a\n",
            "  Stored in directory: /root/.cache/pip/wheels/2a/47/52/a8ecdc31bd4df419c53032eed4f4b8abeac607c7828f33785e\n",
            "Successfully built pplpy\n",
            "Installing collected packages: pplpy\n",
            "Successfully installed pplpy-0.8.9\n",
            "Requirement already satisfied: scipy in /usr/local/lib/python3.10/dist-packages (1.11.4)\n",
            "Requirement already satisfied: numpy<1.28.0,>=1.21.6 in /usr/local/lib/python3.10/dist-packages (from scipy) (1.23.5)\n",
            "Collecting cytools\n",
            "  Downloading cytools-1.0.1-py3-none-any.whl (118 kB)\n",
            "\u001b[2K     \u001b[90m━━━━━━━━━━━━━━━━━━━━━━━━━━━━━━━━━━━━━━━━\u001b[0m \u001b[32m118.8/118.8 kB\u001b[0m \u001b[31m3.0 MB/s\u001b[0m eta \u001b[36m0:00:00\u001b[0m\n",
            "\u001b[?25hInstalling collected packages: cytools\n",
            "Successfully installed cytools-1.0.1\n"
          ]
        }
      ]
    },
    {
      "cell_type": "code",
      "source": [
        "from cytools import Polytope"
      ],
      "metadata": {
        "id": "BxcIUAUx2NK3",
        "colab": {
          "base_uri": "https://localhost:8080/"
        },
        "outputId": "38471c19-8a9e-4fa5-b23b-be2eee360c72"
      },
      "execution_count": 4,
      "outputs": [
        {
          "output_type": "stream",
          "name": "stdout",
          "text": [
            "\n",
            "Info: A more recent version of CYTools is available: v1.0.1 -> v1.0.14.\n",
            "We recommend upgrading before continuing.\n",
            "On Linux and macOS you can update CYTools by running 'cytools --update'\n",
            "and on Windows you can do this by running the updater tool.\n",
            "\n"
          ]
        }
      ]
    },
    {
      "cell_type": "code",
      "source": [
        "vertices = [[ -1,   0,   1,   1,   3],\n",
        "  [  3,   4,  -3,   9,  -5],\n",
        "  [ -1,  -8,   1, -15,   3],\n",
        "  [  0,   0,   1,   1,   0],\n",
        "  [ -1,   0,  -3,   1,  -1],\n",
        "  [ -1,   0,   1,  -7,   3]]\n",
        "p = Polytope(vertices)\n",
        "print(p.is_reflexive())"
      ],
      "metadata": {
        "colab": {
          "base_uri": "https://localhost:8080/"
        },
        "id": "CMgq3_vy_iUF",
        "outputId": "c42bc97f-38ad-4fff-9145-a07172d10478"
      },
      "execution_count": 5,
      "outputs": [
        {
          "output_type": "stream",
          "name": "stdout",
          "text": [
            "True\n"
          ]
        }
      ]
    },
    {
      "cell_type": "markdown",
      "source": [
        "Take some 5D polytopes from [GitHub: elliheyes/Polytope-Generation](https://github.com/elliheyes/Polytope-Generation/tree/main/Data)"
      ],
      "metadata": {
        "id": "6xNpIo4waZ6z"
      }
    },
    {
      "cell_type": "code",
      "source": [
        "vertices = [[-2, 3, 1, -3, 0],\n",
        " [1, -2, -1, 2, 0],\n",
        " [4, -4, 1, 2, -2],\n",
        " [1, 2, 3, 0, -1],\n",
        " [-3, 3, -1, -2, 2],\n",
        " [1, 2, 3, -3, -1],\n",
        " [-2, -1, -3, 0, 2]]\n",
        "p = Polytope(vertices)\n",
        "print(p.is_reflexive())\n",
        "\n",
        "vertices = [[4, -2, 3, 2, -3],\n",
        " [1, -2, -1, 2, 0],\n",
        " [4, -4, 1, 2, -2],\n",
        " [1, 2, 3, 0, -1],\n",
        " [-3, 3, -1, -2, 2],\n",
        " [1, 2, 3, -3, -1],\n",
        " [-2, -4, -5, 2, 1]]\n",
        "p = Polytope(vertices)\n",
        "print(p.is_reflexive())\n",
        "\n",
        "vertices = [[ -2,   0,   0,   1,  -1],\n",
        " [  1,   0,   0,  -2,  -2],\n",
        " [  0,   0,   0,   1,   1],\n",
        " [ -2,  -1,   0,  -2,  -1],\n",
        " [ -3,   2,  -1,   5,  -2],\n",
        " [  1,   0,   0,  -1,   0],\n",
        " [  0,  -1,   1,   1,   3],\n",
        " [  6,  -1,   1,  -5,   1],\n",
        " [-12,   2,  -2,   7,  -7]]\n",
        "p = Polytope(vertices)\n",
        "print(p.is_reflexive())\n",
        "\n",
        "vertices = [[  0,   0,   0,   1,   1],\n",
        " [  1,   0,   0,  -2,  -2],\n",
        " [  0,   0,   0,   1,   1],\n",
        " [  0,  -2,   0,   1,  -1],\n",
        " [ -5,   3,  -1,   1,  -4],\n",
        " [  1,   0,   0,  -1,   0],\n",
        " [  0,  -1,   1,   1,   3],\n",
        " [  6,  -1,   1,  -5,   1],\n",
        " [-12,   2,  -2,   7,  -7]]\n",
        "p = Polytope(vertices)\n",
        "print(p.is_reflexive())\n",
        "\n"
      ],
      "metadata": {
        "colab": {
          "base_uri": "https://localhost:8080/"
        },
        "id": "z43OpTb9Vupc",
        "outputId": "e82af425-6548-4375-ea52-8454059d3882"
      },
      "execution_count": 6,
      "outputs": [
        {
          "output_type": "stream",
          "name": "stdout",
          "text": [
            "True\n",
            "True\n",
            "True\n",
            "True\n"
          ]
        }
      ]
    },
    {
      "cell_type": "code",
      "source": [
        "vertices = [[-4, 3, 1, -3, 2],\n",
        " [1, 4, -4, -2, -3],\n",
        " [-1,  0,  2, -2,  1],\n",
        " [ 4,  0, -3, -2, -4],\n",
        " [ 2, -1,  0, -2,  1],\n",
        " [-1,  2,  0, -2,  1],\n",
        " [ 3, -3,  4,  1, -2]]\n",
        "p = Polytope(vertices)\n",
        "print(p.is_reflexive())"
      ],
      "metadata": {
        "colab": {
          "base_uri": "https://localhost:8080/"
        },
        "id": "fCbDB5tbNh7k",
        "outputId": "e914bd16-7485-4ecf-ca43-66295acff00e"
      },
      "execution_count": 7,
      "outputs": [
        {
          "output_type": "stream",
          "name": "stdout",
          "text": [
            "False\n"
          ]
        }
      ]
    }
  ]
}